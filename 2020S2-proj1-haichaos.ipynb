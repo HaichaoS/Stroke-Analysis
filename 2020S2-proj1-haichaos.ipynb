{
 "cells": [
  {
   "cell_type": "markdown",
   "metadata": {},
   "source": [
    "## The University of Melbourne, School of Computing and Information Systems\n",
    "# COMP90049 Introduction to Machine Learning, 2020 Semester 2\n",
    "-----\n",
    "## Project 1: Predicting stroke with Naive Bayes and K-NN\n",
    "-----\n",
    "###### Student Name(s): Haichao Song\n",
    "###### Python version: 2.7.10\n",
    "###### Submission deadline: 5 PM 11 Sep 2020"
   ]
  },
  {
   "cell_type": "markdown",
   "metadata": {},
   "source": [
    "This iPython notebook is a template which you will use for your Project 1 submission. \n",
    "\n",
    "Marking will be applied on the functions that are defined in this notebook, and to your responses to the questions at the end of this notebook.\n",
    "\n",
    "You may change the prototypes of these functions, and you may write other functions, according to your requirements. We would appreciate it if the required functions were prominent/easy to find. "
   ]
  },
  {
   "cell_type": "code",
   "execution_count": 1,
   "metadata": {
    "scrolled": true
   },
   "outputs": [],
   "source": [
    "import pandas as pd\n",
    "import numpy as np\n",
    "import re\n",
    "import csv\n",
    "import random\n",
    "import sys\n",
    "import matplotlib.pyplot as plt\n",
    "import seaborn as sns\n",
    "import collections\n",
    "from sklearn import metrics\n",
    "from math import exp, sqrt\n",
    "from sklearn.model_selection import StratifiedKFold, train_test_split\n",
    "from sklearn.dummy import DummyClassifier\n",
    "from sklearn.neighbors import KNeighborsClassifier"
   ]
  },
  {
   "cell_type": "code",
   "execution_count": 2,
   "metadata": {},
   "outputs": [],
   "source": [
    "# This function should transform data into a usable format \n",
    "def preprocess(stroke_df, numeric=True, categorise=False, onehot=True, normalise=True):\n",
    "    \n",
    "    if numeric:\n",
    "        stroke_df['gender'] = stroke_df['gender'].map({'Male': 1,'Female': 0})\n",
    "        stroke_df['ever_married'] = stroke_df['ever_married'].map({'Yes': 1,'No': 0})\n",
    "        stroke_df['Residence_type'] = stroke_df['Residence_type'].map({'Rural': 1,'Urban': 0})\n",
    "        \n",
    "    if onehot:\n",
    "        stroke_df = one_hot_encoding(stroke_df, \"smoking_status\")\n",
    "        stroke_df = one_hot_encoding(stroke_df, \"work_type\")\n",
    "    \n",
    "    if normalise:\n",
    "        stroke_df = normalize(stroke_df, 'avg_glucose_level')\n",
    "        stroke_df = normalize(stroke_df, 'bmi')\n",
    "        stroke_df = normalize(stroke_df, 'age')\n",
    "        \n",
    "    if categorise:\n",
    "        stroke_df = categorize(stroke_df, 'avg_glucose_level')\n",
    "        stroke_df = categorize(stroke_df, 'bmi')\n",
    "        stroke_df = categorize(stroke_df, 'age')\n",
    "        \n",
    "    cols = list(stroke_df.columns.values)\n",
    "    cols.remove(\"stroke\")\n",
    "    cols.append(\"stroke\")\n",
    "    \n",
    "    return stroke_df[cols]\n",
    "\n",
    "def one_hot_encoding(data, column_name):\n",
    "    new_df = data.copy()\n",
    "    new_df = pd.get_dummies(new_df, prefix=column_name, columns=[column_name])\n",
    "    return new_df\n",
    "\n",
    "def normalize(data, column_name):\n",
    "    new_df = data.copy()\n",
    "    new_df[column_name]=(\n",
    "        (new_df[column_name]       - new_df[column_name].min())/\n",
    "        (new_df[column_name].max() - new_df[column_name].min())\n",
    "    )\n",
    "    \n",
    "    return new_df\n",
    "\n",
    "def categorize(data, column_name):\n",
    "    new_df = data.copy()\n",
    "    quan = [0, data[column_name].quantile(0.25), data[column_name].quantile(0.5), data[column_name].quantile(0.75), data[column_name].max()]\n",
    "    new_df[column_name] = pd.cut(new_df[column_name], bins=quan, include_lowest=True, labels=['0', '1', '2','3'])\n",
    "    return new_df"
   ]
  },
  {
   "cell_type": "code",
   "execution_count": 3,
   "metadata": {},
   "outputs": [],
   "source": [
    "# This function should split a data set into a training set and hold-out test set      \n",
    "def split_data(data, test_size=0.2, stratified=True):\n",
    "    test_size = test_size\n",
    "    train_size = 1 - test_size\n",
    "    data_X, data_Y = data.iloc[:, 0:len(data.columns)-1], data.iloc[:, [-1]]\n",
    "    \n",
    "    if stratified:\n",
    "        test_df, train_df = train_test_split(data, test_size=test_size, train_size=train_size, stratify=data_Y)\n",
    "    else:\n",
    "        test_df, train_df = train_test_split(data, test_size=test_size, train_size=train_size)\n",
    "    \n",
    "    # assume class is the last attribute\n",
    "    X_test, Y_test = test_df.iloc[:, 0:len(test_df.columns)-1], test_df.iloc[:, [-1]]\n",
    "    X_train, Y_train = train_df.iloc[:, 0:len(train_df.columns)-1], train_df.iloc[:, [-1]]\n",
    "    return test_df, train_df\n",
    "\n",
    "def split_xy(X_test, Y_test):\n",
    "    X_test, Y_test = test_df.iloc[:, 0:len(test_df.columns)-1], test_df.iloc[:, [-1]]\n",
    "    X_train, Y_train = train_df.iloc[:, 0:len(train_df.columns)-1], train_df.iloc[:, [-1]]\n",
    "    return X_train, Y_train, X_test, Y_test"
   ]
  },
  {
   "cell_type": "code",
   "execution_count": 4,
   "metadata": {},
   "outputs": [],
   "source": [
    "# This function should build a supervised NB model\n",
    "def train(trainSet):\n",
    "    p_y = {}\n",
    "    p_xy = {}\n",
    "    attri = []\n",
    "    \n",
    "    for i in range(len(trainSet[0][:-1])):\n",
    "        attri.append([])\n",
    "    \n",
    "    for instance in trainSet:\n",
    "        if instance[-1] not in p_y:\n",
    "            p_y[instance[-1]] = 1\n",
    "            p_xy[instance[-1]] = []\n",
    "            for feature in range(len(instance[:-1])):\n",
    "                attribute = instance[feature]\n",
    "                p_xy[instance[-1]].append({})\n",
    "        else:\n",
    "            p_y[instance[-1]] += 1\n",
    "          \n",
    "    for instance in trainSet:\n",
    "        label = instance[-1]\n",
    "        for feature in range(len(instance[:-1])):\n",
    "            if instance[feature] not in attri[feature]:\n",
    "                attri[feature].append(instance[feature])\n",
    "            if instance[feature] not in p_xy[label][feature].keys():\n",
    "                p_xy[label][feature][instance[feature]] = 1\n",
    "            else:\n",
    "                p_xy[label][feature][instance[feature]] += 1 \n",
    "\n",
    "    return p_y, p_xy, len(trainSet), attri"
   ]
  },
  {
   "cell_type": "code",
   "execution_count": 5,
   "metadata": {},
   "outputs": [],
   "source": [
    "# This function should predict the class for an instance or a set of instances, based on a trained model \n",
    "def predict(model, testData):\n",
    "    max_prob = -sys.maxsize-1\n",
    "    max_label = None\n",
    "    alpha = 1\n",
    "    p_y, p_xy, total, attri = model\n",
    "    \n",
    "    def getProb(label, priors):\n",
    "        likelihoods = 0\n",
    "        for i in range(len(testData)):\n",
    "            attribute = testData[i]\n",
    "            M = len(attri[i])\n",
    "            \n",
    "            if (attribute not in p_xy[label][i].keys()):\n",
    "                likelihood = np.log((0+alpha)/(p_y[label]+alpha*M))\n",
    "            else:\n",
    "                likelihood = np.log((p_xy[label][i][attribute]+alpha)/(p_y[label]+alpha*M))\n",
    "            likelihoods += likelihood\n",
    "        return np.log(priors) + likelihoods\n",
    "            \n",
    "    for label in p_y.keys():\n",
    "        priors = round(p_y[label]/total, 3)\n",
    "        currentProb = getProb(label,priors)\n",
    "        if (currentProb > max_prob):\n",
    "            max_prob = currentProb\n",
    "            max_label = label\n",
    "\n",
    "    return max_label"
   ]
  },
  {
   "cell_type": "code",
   "execution_count": 6,
   "metadata": {
    "scrolled": true
   },
   "outputs": [],
   "source": [
    "# This function should evaluate a set of predictions in terms of accuracy\n",
    "def evaluate(true, pred):\n",
    "    confusion_matrix = metrics.confusion_matrix(true, pred)\n",
    "    accuracy = metrics.accuracy_score(true, pred)\n",
    "    PRF = metrics.precision_recall_fscore_support(true, pred, average='macro')\n",
    "    return confusion_matrix, accuracy, PRF"
   ]
  },
  {
   "cell_type": "markdown",
   "metadata": {},
   "source": [
    "## Questions (you may respond in a cell or cells below):\n",
    "\n",
    "You should respond to questions 1-4. In question 2 (b) you can choose between two options. A response to a question should take about 100--200 words, and make reference to the data wherever possible.\n",
    "\n",
    "### Question 1: Data exploration\n",
    "\n",
    "- a) Explore the data and summarise different aspects of the data. Can you see any interesting characteristic in features, classes or categories? What is the main issue with the data? Considering the issue, how would the Naive Bayes classifier work on this data? Discuss your answer based on the Naive Bayes' formulation.\n",
    "- b) Is accuracy an appropriate metric to evaluate the models created for this data? Justify your answer. Explain which metric(s) would be more appropriate, and contrast their utility against accuracy. [no programming required]\n",
    "\n"
   ]
  },
  {
   "cell_type": "markdown",
   "metadata": {},
   "source": [
    "### Q1 a)"
   ]
  },
  {
   "cell_type": "markdown",
   "metadata": {},
   "source": [
    "#### Read data"
   ]
  },
  {
   "cell_type": "code",
   "execution_count": 7,
   "metadata": {},
   "outputs": [
    {
     "data": {
      "text/html": [
       "<div>\n",
       "<style scoped>\n",
       "    .dataframe tbody tr th:only-of-type {\n",
       "        vertical-align: middle;\n",
       "    }\n",
       "\n",
       "    .dataframe tbody tr th {\n",
       "        vertical-align: top;\n",
       "    }\n",
       "\n",
       "    .dataframe thead th {\n",
       "        text-align: right;\n",
       "    }\n",
       "</style>\n",
       "<table border=\"1\" class=\"dataframe\">\n",
       "  <thead>\n",
       "    <tr style=\"text-align: right;\">\n",
       "      <th></th>\n",
       "      <th>avg_glucose_level</th>\n",
       "      <th>bmi</th>\n",
       "      <th>age</th>\n",
       "      <th>gender</th>\n",
       "      <th>hypertension</th>\n",
       "      <th>heart_disease</th>\n",
       "      <th>ever_married</th>\n",
       "      <th>work_type</th>\n",
       "      <th>Residence_type</th>\n",
       "      <th>smoking_status</th>\n",
       "      <th>stroke</th>\n",
       "    </tr>\n",
       "  </thead>\n",
       "  <tbody>\n",
       "    <tr>\n",
       "      <th>0</th>\n",
       "      <td>137.45</td>\n",
       "      <td>26.0</td>\n",
       "      <td>53</td>\n",
       "      <td>Male</td>\n",
       "      <td>0</td>\n",
       "      <td>0</td>\n",
       "      <td>Yes</td>\n",
       "      <td>Self-employed</td>\n",
       "      <td>Rural</td>\n",
       "      <td>smokes</td>\n",
       "      <td>0</td>\n",
       "    </tr>\n",
       "    <tr>\n",
       "      <th>1</th>\n",
       "      <td>56.85</td>\n",
       "      <td>24.4</td>\n",
       "      <td>44</td>\n",
       "      <td>Female</td>\n",
       "      <td>0</td>\n",
       "      <td>0</td>\n",
       "      <td>Yes</td>\n",
       "      <td>Private</td>\n",
       "      <td>Rural</td>\n",
       "      <td>never smoked</td>\n",
       "      <td>0</td>\n",
       "    </tr>\n",
       "    <tr>\n",
       "      <th>2</th>\n",
       "      <td>87.79</td>\n",
       "      <td>41.1</td>\n",
       "      <td>49</td>\n",
       "      <td>Female</td>\n",
       "      <td>0</td>\n",
       "      <td>0</td>\n",
       "      <td>No</td>\n",
       "      <td>Private</td>\n",
       "      <td>Urban</td>\n",
       "      <td>never smoked</td>\n",
       "      <td>0</td>\n",
       "    </tr>\n",
       "    <tr>\n",
       "      <th>3</th>\n",
       "      <td>94.82</td>\n",
       "      <td>22.9</td>\n",
       "      <td>28</td>\n",
       "      <td>Female</td>\n",
       "      <td>0</td>\n",
       "      <td>0</td>\n",
       "      <td>No</td>\n",
       "      <td>Private</td>\n",
       "      <td>Urban</td>\n",
       "      <td>never smoked</td>\n",
       "      <td>0</td>\n",
       "    </tr>\n",
       "    <tr>\n",
       "      <th>4</th>\n",
       "      <td>96.80</td>\n",
       "      <td>29.6</td>\n",
       "      <td>73</td>\n",
       "      <td>Male</td>\n",
       "      <td>0</td>\n",
       "      <td>0</td>\n",
       "      <td>Yes</td>\n",
       "      <td>Private</td>\n",
       "      <td>Urban</td>\n",
       "      <td>formerly smoked</td>\n",
       "      <td>0</td>\n",
       "    </tr>\n",
       "    <tr>\n",
       "      <th>...</th>\n",
       "      <td>...</td>\n",
       "      <td>...</td>\n",
       "      <td>...</td>\n",
       "      <td>...</td>\n",
       "      <td>...</td>\n",
       "      <td>...</td>\n",
       "      <td>...</td>\n",
       "      <td>...</td>\n",
       "      <td>...</td>\n",
       "      <td>...</td>\n",
       "      <td>...</td>\n",
       "    </tr>\n",
       "    <tr>\n",
       "      <th>2735</th>\n",
       "      <td>88.29</td>\n",
       "      <td>36.0</td>\n",
       "      <td>79</td>\n",
       "      <td>Male</td>\n",
       "      <td>0</td>\n",
       "      <td>1</td>\n",
       "      <td>Yes</td>\n",
       "      <td>Self-employed</td>\n",
       "      <td>Urban</td>\n",
       "      <td>never smoked</td>\n",
       "      <td>1</td>\n",
       "    </tr>\n",
       "    <tr>\n",
       "      <th>2736</th>\n",
       "      <td>93.38</td>\n",
       "      <td>26.7</td>\n",
       "      <td>76</td>\n",
       "      <td>Male</td>\n",
       "      <td>0</td>\n",
       "      <td>0</td>\n",
       "      <td>Yes</td>\n",
       "      <td>Self-employed</td>\n",
       "      <td>Rural</td>\n",
       "      <td>formerly smoked</td>\n",
       "      <td>1</td>\n",
       "    </tr>\n",
       "    <tr>\n",
       "      <th>2737</th>\n",
       "      <td>83.27</td>\n",
       "      <td>32.9</td>\n",
       "      <td>56</td>\n",
       "      <td>Female</td>\n",
       "      <td>0</td>\n",
       "      <td>0</td>\n",
       "      <td>Yes</td>\n",
       "      <td>Private</td>\n",
       "      <td>Rural</td>\n",
       "      <td>smokes</td>\n",
       "      <td>1</td>\n",
       "    </tr>\n",
       "    <tr>\n",
       "      <th>2738</th>\n",
       "      <td>75.91</td>\n",
       "      <td>26.7</td>\n",
       "      <td>80</td>\n",
       "      <td>Female</td>\n",
       "      <td>0</td>\n",
       "      <td>0</td>\n",
       "      <td>Yes</td>\n",
       "      <td>Self-employed</td>\n",
       "      <td>Urban</td>\n",
       "      <td>never smoked</td>\n",
       "      <td>1</td>\n",
       "    </tr>\n",
       "    <tr>\n",
       "      <th>2739</th>\n",
       "      <td>77.97</td>\n",
       "      <td>31.5</td>\n",
       "      <td>62</td>\n",
       "      <td>Male</td>\n",
       "      <td>1</td>\n",
       "      <td>1</td>\n",
       "      <td>Yes</td>\n",
       "      <td>Private</td>\n",
       "      <td>Rural</td>\n",
       "      <td>formerly smoked</td>\n",
       "      <td>1</td>\n",
       "    </tr>\n",
       "  </tbody>\n",
       "</table>\n",
       "<p>2740 rows × 11 columns</p>\n",
       "</div>"
      ],
      "text/plain": [
       "      avg_glucose_level   bmi  age  gender  hypertension  heart_disease  \\\n",
       "0                137.45  26.0   53    Male             0              0   \n",
       "1                 56.85  24.4   44  Female             0              0   \n",
       "2                 87.79  41.1   49  Female             0              0   \n",
       "3                 94.82  22.9   28  Female             0              0   \n",
       "4                 96.80  29.6   73    Male             0              0   \n",
       "...                 ...   ...  ...     ...           ...            ...   \n",
       "2735              88.29  36.0   79    Male             0              1   \n",
       "2736              93.38  26.7   76    Male             0              0   \n",
       "2737              83.27  32.9   56  Female             0              0   \n",
       "2738              75.91  26.7   80  Female             0              0   \n",
       "2739              77.97  31.5   62    Male             1              1   \n",
       "\n",
       "     ever_married      work_type Residence_type   smoking_status  stroke  \n",
       "0             Yes  Self-employed          Rural           smokes       0  \n",
       "1             Yes        Private          Rural     never smoked       0  \n",
       "2              No        Private          Urban     never smoked       0  \n",
       "3              No        Private          Urban     never smoked       0  \n",
       "4             Yes        Private          Urban  formerly smoked       0  \n",
       "...           ...            ...            ...              ...     ...  \n",
       "2735          Yes  Self-employed          Urban     never smoked       1  \n",
       "2736          Yes  Self-employed          Rural  formerly smoked       1  \n",
       "2737          Yes        Private          Rural           smokes       1  \n",
       "2738          Yes  Self-employed          Urban     never smoked       1  \n",
       "2739          Yes        Private          Rural  formerly smoked       1  \n",
       "\n",
       "[2740 rows x 11 columns]"
      ]
     },
     "execution_count": 7,
     "metadata": {},
     "output_type": "execute_result"
    }
   ],
   "source": [
    "stroke_df = pd.read_csv('stroke_update.csv')\n",
    "stroke_df"
   ]
  },
  {
   "cell_type": "markdown",
   "metadata": {},
   "source": [
    "#### Check missing data"
   ]
  },
  {
   "cell_type": "code",
   "execution_count": 8,
   "metadata": {},
   "outputs": [
    {
     "data": {
      "text/plain": [
       "avg_glucose_level    0\n",
       "bmi                  0\n",
       "age                  0\n",
       "gender               0\n",
       "hypertension         0\n",
       "heart_disease        0\n",
       "ever_married         0\n",
       "work_type            0\n",
       "Residence_type       0\n",
       "smoking_status       0\n",
       "stroke               0\n",
       "dtype: int64"
      ]
     },
     "execution_count": 8,
     "metadata": {},
     "output_type": "execute_result"
    }
   ],
   "source": [
    "missing = stroke_df.isnull().sum()\n",
    "missing"
   ]
  },
  {
   "cell_type": "markdown",
   "metadata": {},
   "source": [
    "####  Change categorial date to numerical data"
   ]
  },
  {
   "cell_type": "code",
   "execution_count": 9,
   "metadata": {},
   "outputs": [],
   "source": [
    "stroke_df['gender'] = stroke_df['gender'].map({'Male': 1,'Female': 0})\n",
    "stroke_df['ever_married'] = stroke_df['ever_married'].map({'Yes': 1,'No': 0})\n",
    "stroke_df['work_type'] = stroke_df['work_type'].map({'Govt_job': 3,'Private': 2, 'Self-employed': 1, 'children': 0})\n",
    "stroke_df['Residence_type'] = stroke_df['Residence_type'].map({'Rural': 1,'Urban': 0})\n",
    "stroke_df['smoking_status'] = stroke_df['smoking_status'].map({'smokes': 2,'formerly smoked': 1, 'never smoked': 0})"
   ]
  },
  {
   "cell_type": "code",
   "execution_count": 10,
   "metadata": {},
   "outputs": [
    {
     "data": {
      "text/html": [
       "<div>\n",
       "<style scoped>\n",
       "    .dataframe tbody tr th:only-of-type {\n",
       "        vertical-align: middle;\n",
       "    }\n",
       "\n",
       "    .dataframe tbody tr th {\n",
       "        vertical-align: top;\n",
       "    }\n",
       "\n",
       "    .dataframe thead th {\n",
       "        text-align: right;\n",
       "    }\n",
       "</style>\n",
       "<table border=\"1\" class=\"dataframe\">\n",
       "  <thead>\n",
       "    <tr style=\"text-align: right;\">\n",
       "      <th></th>\n",
       "      <th>avg_glucose_level</th>\n",
       "      <th>bmi</th>\n",
       "      <th>age</th>\n",
       "      <th>gender</th>\n",
       "      <th>hypertension</th>\n",
       "      <th>heart_disease</th>\n",
       "      <th>ever_married</th>\n",
       "      <th>work_type</th>\n",
       "      <th>Residence_type</th>\n",
       "      <th>smoking_status</th>\n",
       "      <th>stroke</th>\n",
       "    </tr>\n",
       "  </thead>\n",
       "  <tbody>\n",
       "    <tr>\n",
       "      <th>0</th>\n",
       "      <td>137.45</td>\n",
       "      <td>26.0</td>\n",
       "      <td>53</td>\n",
       "      <td>1</td>\n",
       "      <td>0</td>\n",
       "      <td>0</td>\n",
       "      <td>1</td>\n",
       "      <td>1.0</td>\n",
       "      <td>1</td>\n",
       "      <td>2</td>\n",
       "      <td>0</td>\n",
       "    </tr>\n",
       "    <tr>\n",
       "      <th>1</th>\n",
       "      <td>56.85</td>\n",
       "      <td>24.4</td>\n",
       "      <td>44</td>\n",
       "      <td>0</td>\n",
       "      <td>0</td>\n",
       "      <td>0</td>\n",
       "      <td>1</td>\n",
       "      <td>2.0</td>\n",
       "      <td>1</td>\n",
       "      <td>0</td>\n",
       "      <td>0</td>\n",
       "    </tr>\n",
       "    <tr>\n",
       "      <th>2</th>\n",
       "      <td>87.79</td>\n",
       "      <td>41.1</td>\n",
       "      <td>49</td>\n",
       "      <td>0</td>\n",
       "      <td>0</td>\n",
       "      <td>0</td>\n",
       "      <td>0</td>\n",
       "      <td>2.0</td>\n",
       "      <td>0</td>\n",
       "      <td>0</td>\n",
       "      <td>0</td>\n",
       "    </tr>\n",
       "    <tr>\n",
       "      <th>3</th>\n",
       "      <td>94.82</td>\n",
       "      <td>22.9</td>\n",
       "      <td>28</td>\n",
       "      <td>0</td>\n",
       "      <td>0</td>\n",
       "      <td>0</td>\n",
       "      <td>0</td>\n",
       "      <td>2.0</td>\n",
       "      <td>0</td>\n",
       "      <td>0</td>\n",
       "      <td>0</td>\n",
       "    </tr>\n",
       "    <tr>\n",
       "      <th>4</th>\n",
       "      <td>96.80</td>\n",
       "      <td>29.6</td>\n",
       "      <td>73</td>\n",
       "      <td>1</td>\n",
       "      <td>0</td>\n",
       "      <td>0</td>\n",
       "      <td>1</td>\n",
       "      <td>2.0</td>\n",
       "      <td>0</td>\n",
       "      <td>1</td>\n",
       "      <td>0</td>\n",
       "    </tr>\n",
       "    <tr>\n",
       "      <th>...</th>\n",
       "      <td>...</td>\n",
       "      <td>...</td>\n",
       "      <td>...</td>\n",
       "      <td>...</td>\n",
       "      <td>...</td>\n",
       "      <td>...</td>\n",
       "      <td>...</td>\n",
       "      <td>...</td>\n",
       "      <td>...</td>\n",
       "      <td>...</td>\n",
       "      <td>...</td>\n",
       "    </tr>\n",
       "    <tr>\n",
       "      <th>2735</th>\n",
       "      <td>88.29</td>\n",
       "      <td>36.0</td>\n",
       "      <td>79</td>\n",
       "      <td>1</td>\n",
       "      <td>0</td>\n",
       "      <td>1</td>\n",
       "      <td>1</td>\n",
       "      <td>1.0</td>\n",
       "      <td>0</td>\n",
       "      <td>0</td>\n",
       "      <td>1</td>\n",
       "    </tr>\n",
       "    <tr>\n",
       "      <th>2736</th>\n",
       "      <td>93.38</td>\n",
       "      <td>26.7</td>\n",
       "      <td>76</td>\n",
       "      <td>1</td>\n",
       "      <td>0</td>\n",
       "      <td>0</td>\n",
       "      <td>1</td>\n",
       "      <td>1.0</td>\n",
       "      <td>1</td>\n",
       "      <td>1</td>\n",
       "      <td>1</td>\n",
       "    </tr>\n",
       "    <tr>\n",
       "      <th>2737</th>\n",
       "      <td>83.27</td>\n",
       "      <td>32.9</td>\n",
       "      <td>56</td>\n",
       "      <td>0</td>\n",
       "      <td>0</td>\n",
       "      <td>0</td>\n",
       "      <td>1</td>\n",
       "      <td>2.0</td>\n",
       "      <td>1</td>\n",
       "      <td>2</td>\n",
       "      <td>1</td>\n",
       "    </tr>\n",
       "    <tr>\n",
       "      <th>2738</th>\n",
       "      <td>75.91</td>\n",
       "      <td>26.7</td>\n",
       "      <td>80</td>\n",
       "      <td>0</td>\n",
       "      <td>0</td>\n",
       "      <td>0</td>\n",
       "      <td>1</td>\n",
       "      <td>1.0</td>\n",
       "      <td>0</td>\n",
       "      <td>0</td>\n",
       "      <td>1</td>\n",
       "    </tr>\n",
       "    <tr>\n",
       "      <th>2739</th>\n",
       "      <td>77.97</td>\n",
       "      <td>31.5</td>\n",
       "      <td>62</td>\n",
       "      <td>1</td>\n",
       "      <td>1</td>\n",
       "      <td>1</td>\n",
       "      <td>1</td>\n",
       "      <td>2.0</td>\n",
       "      <td>1</td>\n",
       "      <td>1</td>\n",
       "      <td>1</td>\n",
       "    </tr>\n",
       "  </tbody>\n",
       "</table>\n",
       "<p>2740 rows × 11 columns</p>\n",
       "</div>"
      ],
      "text/plain": [
       "      avg_glucose_level   bmi  age  gender  hypertension  heart_disease  \\\n",
       "0                137.45  26.0   53       1             0              0   \n",
       "1                 56.85  24.4   44       0             0              0   \n",
       "2                 87.79  41.1   49       0             0              0   \n",
       "3                 94.82  22.9   28       0             0              0   \n",
       "4                 96.80  29.6   73       1             0              0   \n",
       "...                 ...   ...  ...     ...           ...            ...   \n",
       "2735              88.29  36.0   79       1             0              1   \n",
       "2736              93.38  26.7   76       1             0              0   \n",
       "2737              83.27  32.9   56       0             0              0   \n",
       "2738              75.91  26.7   80       0             0              0   \n",
       "2739              77.97  31.5   62       1             1              1   \n",
       "\n",
       "      ever_married  work_type  Residence_type  smoking_status  stroke  \n",
       "0                1        1.0               1               2       0  \n",
       "1                1        2.0               1               0       0  \n",
       "2                0        2.0               0               0       0  \n",
       "3                0        2.0               0               0       0  \n",
       "4                1        2.0               0               1       0  \n",
       "...            ...        ...             ...             ...     ...  \n",
       "2735             1        1.0               0               0       1  \n",
       "2736             1        1.0               1               1       1  \n",
       "2737             1        2.0               1               2       1  \n",
       "2738             1        1.0               0               0       1  \n",
       "2739             1        2.0               1               1       1  \n",
       "\n",
       "[2740 rows x 11 columns]"
      ]
     },
     "execution_count": 10,
     "metadata": {},
     "output_type": "execute_result"
    }
   ],
   "source": [
    "stroke_df"
   ]
  },
  {
   "cell_type": "markdown",
   "metadata": {},
   "source": [
    "#### Check distribution"
   ]
  },
  {
   "cell_type": "code",
   "execution_count": 11,
   "metadata": {},
   "outputs": [
    {
     "data": {
      "image/png": "[encoded data removed]",
      "text/plain": [
       "<Figure size 432x288 with 1 Axes>"
      ]
     },
     "metadata": {
      "needs_background": "light"
     },
     "output_type": "display_data"
    },
    {
     "data": {
      "image/png": "[encoded data removed]",
      "text/plain": [
       "<Figure size 432x288 with 1 Axes>"
      ]
     },
     "metadata": {
      "needs_background": "light"
     },
     "output_type": "display_data"
    },
    {
     "data": {
      "image/png": "[encoded data removed]",
      "text/plain": [
       "<Figure size 432x288 with 1 Axes>"
      ]
     },
     "metadata": {
      "needs_background": "light"
     },
     "output_type": "display_data"
    },
    {
     "data": {
      "image/png": "[encoded data removed]",
      "text/plain": [
       "<Figure size 432x288 with 1 Axes>"
      ]
     },
     "metadata": {
      "needs_background": "light"
     },
     "output_type": "display_data"
    },
    {
     "data": {
      "image/png": "[encoded data removed]",
      "text/plain": [
       "<Figure size 432x288 with 1 Axes>"
      ]
     },
     "metadata": {
      "needs_background": "light"
     },
     "output_type": "display_data"
    },
    {
     "data": {
      "image/png": "[encoded data removed]",
      "text/plain": [
       "<Figure size 432x288 with 1 Axes>"
      ]
     },
     "metadata": {
      "needs_background": "light"
     },
     "output_type": "display_data"
    },
    {
     "data": {
      "image/png": "[encoded data removed]",
      "text/plain": [
       "<Figure size 432x288 with 1 Axes>"
      ]
     },
     "metadata": {
      "needs_background": "light"
     },
     "output_type": "display_data"
    },
    {
     "data": {
      "image/png": "[encoded data removed]",
      "text/plain": [
       "<Figure size 432x288 with 1 Axes>"
      ]
     },
     "metadata": {
      "needs_background": "light"
     },
     "output_type": "display_data"
    },
    {
     "data": {
      "image/png": "[encoded data removed]",
      "text/plain": [
       "<Figure size 432x288 with 1 Axes>"
      ]
     },
     "metadata": {
      "needs_background": "light"
     },
     "output_type": "display_data"
    },
    {
     "data": {
      "image/png": "[encoded data removed]",
      "text/plain": [
       "<Figure size 432x288 with 1 Axes>"
      ]
     },
     "metadata": {
      "needs_background": "light"
     },
     "output_type": "display_data"
    },
    {
     "data": {
      "image/png": "[encoded data removed]",
      "text/plain": [
       "<Figure size 432x288 with 1 Axes>"
      ]
     },
     "metadata": {
      "needs_background": "light"
     },
     "output_type": "display_data"
    }
   ],
   "source": [
    "for attribute in stroke_df:\n",
    "    stroke_df.hist(column = attribute)\n",
    "    stroke_df[attribute].value_counts() / stroke_df[attribute].count()"
   ]
  },
  {
   "cell_type": "code",
   "execution_count": 12,
   "metadata": {},
   "outputs": [
    {
     "data": {
      "text/html": [
       "<div>\n",
       "<style scoped>\n",
       "    .dataframe tbody tr th:only-of-type {\n",
       "        vertical-align: middle;\n",
       "    }\n",
       "\n",
       "    .dataframe tbody tr th {\n",
       "        vertical-align: top;\n",
       "    }\n",
       "\n",
       "    .dataframe thead th {\n",
       "        text-align: right;\n",
       "    }\n",
       "</style>\n",
       "<table border=\"1\" class=\"dataframe\">\n",
       "  <thead>\n",
       "    <tr style=\"text-align: right;\">\n",
       "      <th></th>\n",
       "      <th>avg_glucose_level</th>\n",
       "      <th>bmi</th>\n",
       "      <th>age</th>\n",
       "      <th>gender</th>\n",
       "      <th>hypertension</th>\n",
       "      <th>heart_disease</th>\n",
       "      <th>ever_married</th>\n",
       "      <th>work_type</th>\n",
       "      <th>Residence_type</th>\n",
       "      <th>smoking_status</th>\n",
       "      <th>stroke</th>\n",
       "    </tr>\n",
       "  </thead>\n",
       "  <tbody>\n",
       "    <tr>\n",
       "      <th>avg_glucose_level</th>\n",
       "      <td>1.000000</td>\n",
       "      <td>0.222221</td>\n",
       "      <td>0.267942</td>\n",
       "      <td>0.048000</td>\n",
       "      <td>0.153631</td>\n",
       "      <td>0.199533</td>\n",
       "      <td>0.140880</td>\n",
       "      <td>-0.040831</td>\n",
       "      <td>0.010321</td>\n",
       "      <td>0.005995</td>\n",
       "      <td>0.195651</td>\n",
       "    </tr>\n",
       "    <tr>\n",
       "      <th>bmi</th>\n",
       "      <td>0.222221</td>\n",
       "      <td>1.000000</td>\n",
       "      <td>0.073568</td>\n",
       "      <td>0.015591</td>\n",
       "      <td>0.120742</td>\n",
       "      <td>0.015180</td>\n",
       "      <td>0.130180</td>\n",
       "      <td>0.070446</td>\n",
       "      <td>-0.015028</td>\n",
       "      <td>0.028255</td>\n",
       "      <td>-0.010339</td>\n",
       "    </tr>\n",
       "    <tr>\n",
       "      <th>age</th>\n",
       "      <td>0.267942</td>\n",
       "      <td>0.073568</td>\n",
       "      <td>1.000000</td>\n",
       "      <td>0.062799</td>\n",
       "      <td>0.299846</td>\n",
       "      <td>0.261760</td>\n",
       "      <td>0.525890</td>\n",
       "      <td>-0.053246</td>\n",
       "      <td>-0.016144</td>\n",
       "      <td>0.031045</td>\n",
       "      <td>0.431107</td>\n",
       "    </tr>\n",
       "    <tr>\n",
       "      <th>gender</th>\n",
       "      <td>0.048000</td>\n",
       "      <td>0.015591</td>\n",
       "      <td>0.062799</td>\n",
       "      <td>1.000000</td>\n",
       "      <td>0.039282</td>\n",
       "      <td>0.102391</td>\n",
       "      <td>0.051499</td>\n",
       "      <td>-0.037602</td>\n",
       "      <td>-0.021190</td>\n",
       "      <td>0.114395</td>\n",
       "      <td>0.035096</td>\n",
       "    </tr>\n",
       "    <tr>\n",
       "      <th>hypertension</th>\n",
       "      <td>0.153631</td>\n",
       "      <td>0.120742</td>\n",
       "      <td>0.299846</td>\n",
       "      <td>0.039282</td>\n",
       "      <td>1.000000</td>\n",
       "      <td>0.127824</td>\n",
       "      <td>0.141752</td>\n",
       "      <td>-0.028818</td>\n",
       "      <td>0.000873</td>\n",
       "      <td>0.005711</td>\n",
       "      <td>0.192728</td>\n",
       "    </tr>\n",
       "    <tr>\n",
       "      <th>heart_disease</th>\n",
       "      <td>0.199533</td>\n",
       "      <td>0.015180</td>\n",
       "      <td>0.261760</td>\n",
       "      <td>0.102391</td>\n",
       "      <td>0.127824</td>\n",
       "      <td>1.000000</td>\n",
       "      <td>0.100569</td>\n",
       "      <td>-0.008238</td>\n",
       "      <td>0.006143</td>\n",
       "      <td>0.085334</td>\n",
       "      <td>0.256132</td>\n",
       "    </tr>\n",
       "    <tr>\n",
       "      <th>ever_married</th>\n",
       "      <td>0.140880</td>\n",
       "      <td>0.130180</td>\n",
       "      <td>0.525890</td>\n",
       "      <td>0.051499</td>\n",
       "      <td>0.141752</td>\n",
       "      <td>0.100569</td>\n",
       "      <td>1.000000</td>\n",
       "      <td>0.053636</td>\n",
       "      <td>-0.027941</td>\n",
       "      <td>0.064902</td>\n",
       "      <td>0.158306</td>\n",
       "    </tr>\n",
       "    <tr>\n",
       "      <th>work_type</th>\n",
       "      <td>-0.040831</td>\n",
       "      <td>0.070446</td>\n",
       "      <td>-0.053246</td>\n",
       "      <td>-0.037602</td>\n",
       "      <td>-0.028818</td>\n",
       "      <td>-0.008238</td>\n",
       "      <td>0.053636</td>\n",
       "      <td>1.000000</td>\n",
       "      <td>-0.005090</td>\n",
       "      <td>0.042342</td>\n",
       "      <td>-0.061916</td>\n",
       "    </tr>\n",
       "    <tr>\n",
       "      <th>Residence_type</th>\n",
       "      <td>0.010321</td>\n",
       "      <td>-0.015028</td>\n",
       "      <td>-0.016144</td>\n",
       "      <td>-0.021190</td>\n",
       "      <td>0.000873</td>\n",
       "      <td>0.006143</td>\n",
       "      <td>-0.027941</td>\n",
       "      <td>-0.005090</td>\n",
       "      <td>1.000000</td>\n",
       "      <td>0.003433</td>\n",
       "      <td>-0.003285</td>\n",
       "    </tr>\n",
       "    <tr>\n",
       "      <th>smoking_status</th>\n",
       "      <td>0.005995</td>\n",
       "      <td>0.028255</td>\n",
       "      <td>0.031045</td>\n",
       "      <td>0.114395</td>\n",
       "      <td>0.005711</td>\n",
       "      <td>0.085334</td>\n",
       "      <td>0.064902</td>\n",
       "      <td>0.042342</td>\n",
       "      <td>0.003433</td>\n",
       "      <td>1.000000</td>\n",
       "      <td>0.019712</td>\n",
       "    </tr>\n",
       "    <tr>\n",
       "      <th>stroke</th>\n",
       "      <td>0.195651</td>\n",
       "      <td>-0.010339</td>\n",
       "      <td>0.431107</td>\n",
       "      <td>0.035096</td>\n",
       "      <td>0.192728</td>\n",
       "      <td>0.256132</td>\n",
       "      <td>0.158306</td>\n",
       "      <td>-0.061916</td>\n",
       "      <td>-0.003285</td>\n",
       "      <td>0.019712</td>\n",
       "      <td>1.000000</td>\n",
       "    </tr>\n",
       "  </tbody>\n",
       "</table>\n",
       "</div>"
      ],
      "text/plain": [
       "                   avg_glucose_level       bmi       age    gender  \\\n",
       "avg_glucose_level           1.000000  0.222221  0.267942  0.048000   \n",
       "bmi                         0.222221  1.000000  0.073568  0.015591   \n",
       "age                         0.267942  0.073568  1.000000  0.062799   \n",
       "gender                      0.048000  0.015591  0.062799  1.000000   \n",
       "hypertension                0.153631  0.120742  0.299846  0.039282   \n",
       "heart_disease               0.199533  0.015180  0.261760  0.102391   \n",
       "ever_married                0.140880  0.130180  0.525890  0.051499   \n",
       "work_type                  -0.040831  0.070446 -0.053246 -0.037602   \n",
       "Residence_type              0.010321 -0.015028 -0.016144 -0.021190   \n",
       "smoking_status              0.005995  0.028255  0.031045  0.114395   \n",
       "stroke                      0.195651 -0.010339  0.431107  0.035096   \n",
       "\n",
       "                   hypertension  heart_disease  ever_married  work_type  \\\n",
       "avg_glucose_level      0.153631       0.199533      0.140880  -0.040831   \n",
       "bmi                    0.120742       0.015180      0.130180   0.070446   \n",
       "age                    0.299846       0.261760      0.525890  -0.053246   \n",
       "gender                 0.039282       0.102391      0.051499  -0.037602   \n",
       "hypertension           1.000000       0.127824      0.141752  -0.028818   \n",
       "heart_disease          0.127824       1.000000      0.100569  -0.008238   \n",
       "ever_married           0.141752       0.100569      1.000000   0.053636   \n",
       "work_type             -0.028818      -0.008238      0.053636   1.000000   \n",
       "Residence_type         0.000873       0.006143     -0.027941  -0.005090   \n",
       "smoking_status         0.005711       0.085334      0.064902   0.042342   \n",
       "stroke                 0.192728       0.256132      0.158306  -0.061916   \n",
       "\n",
       "                   Residence_type  smoking_status    stroke  \n",
       "avg_glucose_level        0.010321        0.005995  0.195651  \n",
       "bmi                     -0.015028        0.028255 -0.010339  \n",
       "age                     -0.016144        0.031045  0.431107  \n",
       "gender                  -0.021190        0.114395  0.035096  \n",
       "hypertension             0.000873        0.005711  0.192728  \n",
       "heart_disease            0.006143        0.085334  0.256132  \n",
       "ever_married            -0.027941        0.064902  0.158306  \n",
       "work_type               -0.005090        0.042342 -0.061916  \n",
       "Residence_type           1.000000        0.003433 -0.003285  \n",
       "smoking_status           0.003433        1.000000  0.019712  \n",
       "stroke                  -0.003285        0.019712  1.000000  "
      ]
     },
     "execution_count": 12,
     "metadata": {},
     "output_type": "execute_result"
    }
   ],
   "source": [
    "stroke_corr = stroke_df.corr()\n",
    "stroke_corr"
   ]
  },
  {
   "cell_type": "code",
   "execution_count": 13,
   "metadata": {
    "scrolled": false
   },
   "outputs": [
    {
     "data": {
      "image/png": "[encoded data removed]",
      "text/plain": [
       "<Figure size 432x288 with 2 Axes>"
      ]
     },
     "metadata": {
      "needs_background": "light"
     },
     "output_type": "display_data"
    }
   ],
   "source": [
    "plt.figure()\n",
    "sns.heatmap(stroke_corr, linewidths=.5)\n",
    "plt.show()"
   ]
  },
  {
   "cell_type": "markdown",
   "metadata": {},
   "source": [
    "- The dataset is completed and there is no missing value in the dataset.\n",
    "- Moreover, there are several issues in the dataset:\n",
    "    - First, only about 20% percent of instances in the dataset get stroke and the rest 80% are not. The bias may influence the result accuracy since most of instances trained have no stroke. A model predicts all instances with false will have 80% accuracy \n",
    "    - Secondly, from the correlation table and the heatmap we find there is a high correlation between ever_married and age. It makes sense. Young people are unlikely to get married compared to old people. However, naive bayes classifier assumes features are independent. The influence of married and age will be doubled if these two features are highly correlated beacause they have a large probability to have the same value and we consider both of them. Therefore, the accuracy will be influenced by high correlated features."
   ]
  },
  {
   "cell_type": "markdown",
   "metadata": {},
   "source": [
    "### 1 b)"
   ]
  },
  {
   "cell_type": "markdown",
   "metadata": {},
   "source": [
    "Accuracy is not an appropriate metric to evaluate the models created for this data, because only 20% of instances in the dataset have strokes and the rest 80% have no stroke. A model predicts only no stroke will get 80% accuracy, which is high but useless.\n",
    "We have more appropriate metrics including precision, recall and f1 score. Precision is the ratio of correctly predicted positive observations to the total predicted positive observations. Recall is the ratio of correctly predicted positive observations to the all observations in actual class. A high precision with low recall score means we predict no stroke instances to have stroke and conversely a high recall but low precision means we predict stroke instances to have no stroke. Therefore, we use f1 score to measure the weight between precision and recall. It balances precision and recall and shows effect of the model."
   ]
  },
  {
   "cell_type": "markdown",
   "metadata": {},
   "source": [
    "### Question 2: Naive Bayes concepts and formulation\n",
    "\n",
    "- a) Explain the independence assumption underlying Naive Bayes. What are the advantages and disadvantages of this assumption? Elaborate your answers using the features of the provided data. [no programming required]\n",
    "- b) Implement the Naive Bayes classifier. You need to decide how you are going to apply Naive Bayes for nominal and numeric attributes. You can combine both Gaussian and Categorical Naive Bayes (option 1) or just using Categorical Naive Bayes (option 2). Explain your decision. For Categorical Naive Bayes, you can choose either epsilon or Laplace smoothing for this calculation. Evaluate the classifier using accuracy and appropriate metric(s) on test data. Explain your observations on how the classifiers have performed based on the metric(s). Discuss the performance of the classifiers in comparison with the Zero-R baseline.\n",
    "- c) Explain the difference between epsilon and Laplace smoothing. [no programming required]"
   ]
  },
  {
   "cell_type": "markdown",
   "metadata": {},
   "source": [
    "### Q2 a)"
   ]
  },
  {
   "cell_type": "markdown",
   "metadata": {},
   "source": [
    "The conditional independence assumption: Conditioned on the class $y$, the features $x_1, x_2,...,x_m$ are assumed to be independent:\n",
    "<center> $P(x_1, x_2,...,x_m|y) \\propto P(x_1|y) \\ \\ast P(x_2|y) \\ \\ast ... \\ast P(x_m|y) \\ \\ast P(y)$ </center>"
   ]
  },
  {
   "cell_type": "markdown",
   "metadata": {},
   "source": [
    "In this dataframe, the assumption is: conditioned on \"stroke\", all of features \"avg_glucose_level\", \"bmi\", \"age\",\t\"gender\", \"hypertension\", \"heart_disease\", \"ever_married\", \"work_type\", \"Residence_type\", \"smoking_status\" are assumed to be independent."
   ]
  },
  {
   "cell_type": "markdown",
   "metadata": {},
   "source": [
    "- Advantages: The key advantage of conditional independence assumption is it reduces the curse of dimensionality. For 10 binary features, there will be 1024 possible feature configrations and we need to estimate that much of likelihoods for each class. By assuming the conditional independence we reduce the likelihoods from 1024 to 8. Another advantage is that conditional independence allows inference about new feature configration.  Even if a particular combination of feature values has not been observed yet, assuming conditional independence allows inference of the likelihood of the feature configuration from the marginal likelihoods of the individual feature values, thereby enabling computing the posterior class probabilities\n",
    "- Disadvantage: conditional independence between different features rarely holds in real-world environments. Therefore, we need more analysis before applying data to NB model, in order to reduce this negative influence on performance and increase the robustness of models"
   ]
  },
  {
   "cell_type": "markdown",
   "metadata": {},
   "source": [
    "### Q2 b)"
   ]
  },
  {
   "cell_type": "code",
   "execution_count": 14,
   "metadata": {
    "scrolled": true
   },
   "outputs": [
    {
     "name": "stdout",
     "output_type": "stream",
     "text": [
      "--------------- 1 ---------------\n",
      "Precision 0.47706422018348627\n",
      "Recall 0.4727272727272727\n",
      "f1 0.4748858447488585\n",
      "--------------- 0 ---------------\n",
      "Precision 0.8678815489749431\n",
      "Recall 0.8698630136986302\n",
      "f1 0.8688711516533637\n",
      "------------------------------\n",
      "Accuracy(hold-out) 0.7901459854014599\n",
      "Precision(macro-average) 0.6724728845792147\n",
      "Recall(macro-average) 0.6712951432129515\n",
      "f1(macro-average) 0.6718834977821792\n"
     ]
    }
   ],
   "source": [
    "strokeList = ['1','0']\n",
    "[precision, recall, f1] = [0,0,0]\n",
    "[accuracy, currentAccuracy] = [0,0]\n",
    "stroke_nb = pd.read_csv('stroke_update.csv')\n",
    "stroke_nb = preprocess(stroke_nb, categorise=True).applymap(str) \n",
    "accuracies = 0\n",
    "testTimes = 1\n",
    "\n",
    "def feature_pattern(data, y):\n",
    "    feature = []\n",
    "    \n",
    "    for i in range(18):\n",
    "        feature.append({}) \n",
    "    \n",
    "    for instance in data:\n",
    "        label = instance[-1]\n",
    "        for i in range(len(instance[:-1])):\n",
    "            attribute = instance[i]\n",
    "            if (label == y):\n",
    "                if attribute in feature[i].keys():\n",
    "                    feature[i][attribute]+=1\n",
    "                else:\n",
    "                    feature[i][attribute]=1            \n",
    "    return feature\n",
    "    \n",
    "def evaluate_accuracy():\n",
    "    max_label = None\n",
    "    true_label = 0\n",
    "    for feature in range(len(testSet)):\n",
    "        max_label = predict(train(trainSet), testSet[feature][:-1])\n",
    "        if (max_label == testSet[feature][-1]):\n",
    "            true_label += 1\n",
    "        evaluate_list.append([testSet[feature][-1], max_label])\n",
    "    accuracy = true_label / len(testSet)\n",
    "        \n",
    "    return accuracy\n",
    "\n",
    "def evaluate_PRF1():\n",
    "    [precisions, recalls, f1s] = [0,0,0]\n",
    "    [tps, fps, fns] = [0,0,0]\n",
    "\n",
    "    for stroke in strokeList:\n",
    "        [tp, fp, fn] = [0,0,0]\n",
    "        \n",
    "        for evaluate in evaluate_list:\n",
    "            [actual, prediction] = [evaluate[0], evaluate[1]]\n",
    "            if (actual == stroke and prediction == stroke):\n",
    "                tp += 1\n",
    "            if (actual != stroke and prediction == stroke):\n",
    "                fp += 1\n",
    "            if (actual == stroke and prediction != stroke):\n",
    "                fn += 1\n",
    "        \n",
    "        if ((tp + fp) == 0 or (tp + fn) == 0 or (tp + fp + fn) == 0):\n",
    "            precision = 0\n",
    "            recall = 0\n",
    "            f1 = 0\n",
    "        else:\n",
    "            precision = tp / (tp + fp)\n",
    "            recall = tp / (tp + fn)\n",
    "            if (precision+recall == 0):\n",
    "                f1 = 0\n",
    "            else:\n",
    "                f1 = (2 * precision * recall) / (precision + recall)\n",
    "        tps += tp\n",
    "        fps += fp\n",
    "        fns += fn\n",
    "\n",
    "        print( '---------------', stroke, '---------------' )\n",
    "        print('Precision', precision)\n",
    "        print('Recall', recall)\n",
    "        print('f1',f1)\n",
    "            \n",
    "        precisions += precision\n",
    "        recalls += recall\n",
    "        f1s += f1\n",
    "    \n",
    "    precision_macro = precisions / len(strokeList)\n",
    "    recall_macro = recalls / len(strokeList)\n",
    "    f1_macro = (2 * precision_macro * recall_macro) / (precision_macro + recall_macro)\n",
    "    print('------------------------------')  \n",
    "    return [precision_macro, recall_macro, f1_macro]\n",
    "\n",
    "for i in range(testTimes):\n",
    "    trainSet, testSet = split_data(stroke_nb)\n",
    "    trainSet = trainSet.values.tolist()\n",
    "    testSet = testSet.values.tolist()\n",
    "    evaluate_list = []\n",
    "    currentAccuracy = evaluate_accuracy()\n",
    "    accuracy += currentAccuracy\n",
    "    \n",
    "for stroke in strokeList:\n",
    "    feature_pattern(stroke_nb, stroke)\n",
    "    \n",
    "[precision, recall, f1] = evaluate_PRF1()\n",
    "    \n",
    "print('Accuracy(hold-out)', accuracy/testTimes)\n",
    "print('Precision(macro-average)', precision)\n",
    "print('Recall(macro-average)', recall) \n",
    "print('f1(macro-average)', f1)"
   ]
  },
  {
   "cell_type": "code",
   "execution_count": 15,
   "metadata": {},
   "outputs": [
    {
     "name": "stdout",
     "output_type": "stream",
     "text": [
      "--------------- 1 ---------------\n",
      "Precision 0\n",
      "Recall 0\n",
      "f1 0\n",
      "--------------- 0 ---------------\n",
      "Precision 0.7992700729927007\n",
      "Recall 1.0\n",
      "f1 0.8884381338742393\n",
      "------------------------------\n",
      "Accuracy(hold-out) 0.7901459854014599\n",
      "Precision(macro-average) 0.39963503649635035\n",
      "Recall(macro-average) 0.5\n",
      "f1(macro-average) 0.44421906693711966\n"
     ]
    }
   ],
   "source": [
    "def zeroR_evaluation():\n",
    "    maximum = 0\n",
    "    [precisions, recalls, f1s] = [0,0,0]\n",
    "    [tps, fps, fns] = [0,0,0]\n",
    "    [precision, recall, f1] = [0,0,0]\n",
    "\n",
    "#     testSet, trainSet = split_data(stroke_nb)\n",
    "    labels = train(trainSet)[0]\n",
    "    \n",
    "    for each_label in labels.keys():\n",
    "        if(labels[each_label] > maximum):\n",
    "            maximum = labels[each_label]\n",
    "            predict = each_label\n",
    "    \n",
    "    for stroke in strokeList:\n",
    "        [tp, fp, fn] = [0,0,0]\n",
    "        for index in range(len(testSet)):\n",
    "            if ((testSet[index][-1]) == stroke and predict == stroke):\n",
    "                tp += 1\n",
    "            if ((testSet[index][-1]) != stroke and predict == stroke):\n",
    "                fp += 1\n",
    "            if ((testSet[index][-1]) == stroke and predict != stroke):\n",
    "                fn += 1\n",
    "        if ((tp+fp) == 0 or (tp+fn) == 0 or (tp+fp+fn) == 0):\n",
    "            precision = 0\n",
    "            recall = 0\n",
    "            f1 = 0\n",
    "        else:\n",
    "            precision = tp / (tp + fp)\n",
    "            recall = tp / (tp + fn)\n",
    "        if (precision+recall == 0):\n",
    "            f1 = 0\n",
    "        else:\n",
    "            f1 = (2*precision*recall)/(precision+recall)\n",
    "        tps+=tp\n",
    "        fps+=fp\n",
    "        fns+=fn\n",
    "    \n",
    "        # seperately for each class\n",
    "        print( '---------------', stroke, '---------------' )\n",
    "        print('Precision', precision)\n",
    "        print('Recall', recall)\n",
    "        print('f1',f1)\n",
    "        \n",
    "        precisions += precision\n",
    "        recalls += recall\n",
    "        f1s += f1\n",
    "    \n",
    "    precision_macro = precisions / len(strokeList)\n",
    "    recall_macro = recalls / len(strokeList)\n",
    "    f1_macro = (2 * precision_macro * recall_macro) / (precision_macro + recall_macro)\n",
    "    \n",
    "    print('------------------------------')\n",
    "    \n",
    "    print('Accuracy(hold-out)', accuracy/testTimes)\n",
    "    print('Precision(macro-average)', precision_macro)\n",
    "    print('Recall(macro-average)', recall_macro) \n",
    "    print('f1(macro-average)', f1_macro)\n",
    "    return \n",
    "\n",
    "zeroR_evaluation()"
   ]
  },
  {
   "cell_type": "markdown",
   "metadata": {},
   "source": [
    "- In the Naive Bayes classifier, I choose to use categorical naive bayes classifier with Laplace smoothing. \n",
    "- In this case Laplace smoothing performs better than Epsilon because there are many 0 in naive bayes calculations and epsilon smoothing will be influenced by 0 probability. Epsilon smoothing counts for unknow information while ignore some known information but Laplace smoothing does not throw away any known infomation.\n",
    "- The classifier scores 0.68884 on precision and 0.68495 on recall, which are pretty close. It's ability to correctly classify positive instance is the same as its ability to correctly classify negative instance. This result shows the classification is balanced.\n",
    "- By comparing the matrics with zero R baseline. We can see the accuracy does not show difference, but f1 score clearly shows zero R is a bad classifier. Both of two classifier have 80% accuracy because 80% of instances in data have no stroke. However, zero R baseline has only 0.44 f1 score, much lower than naive bayes. The result proves accuracy is not an appropriate metric to evaluate the models but f1 score is."
   ]
  },
  {
   "cell_type": "markdown",
   "metadata": {},
   "source": [
    "### Q2 c)"
   ]
  },
  {
   "cell_type": "markdown",
   "metadata": {},
   "source": [
    "Both epsilon and Laplace smoothing aim to solve the situation that probability is 0, when we have unseen attributes after training.\n",
    "\n",
    "- Different way to solve the problem. Epsilon smoothing replaces the 0 probability with a small decimal number in both training and testing phases.  Laplace smoothing adds an additional $\\alpha$ to numerator and *distinct value of features* * $\\alpha$ to denominator in the training phase. \n",
    "- Different influence on result. If there is no 0 probability in training phase, epsilon smoothing does not influence the result as no modification happens. However, laplace smoothing changes the result as we modify the posterior probability no matter 0 probability happens or not. However, in using epsilon smoothing, more 0 we get in probability, smaller probability we will get in the result. The reason is we ignore the situation that it is really impossible according to the training set, while laplace smoothing does not have this influence.\n",
    "- Difference in monotonicity. Epsilon smoothing maintains monotonicity but laplace smoothing does not maintain monotonicity."
   ]
  },
  {
   "cell_type": "markdown",
   "metadata": {},
   "source": [
    "### Question 3: Model Comparison\n",
    "- a) Implement the K-NN classifier, and find the optimal value for K. \n",
    "- b) Based on the obtained value for K in question 4 (a), evaluate the classifier using accuracy and chosen metric(s) on test data. Explain your observations on how the classifiers have performed based on the metric(s). Discuss the performance of the classifiers in comparison with the Zero-R baseline.\n",
    "- c) Is K-NN sensitive to imbalanced data? Justify your answer. [no programming required]\n",
    "- d) Compare the classifiers (Naive Bayes and K-NN) based on metrics' results. Provide a comparatory discussion on the results. [no programming required]"
   ]
  },
  {
   "cell_type": "markdown",
   "metadata": {},
   "source": [
    "### Q3 a)"
   ]
  },
  {
   "cell_type": "markdown",
   "metadata": {},
   "source": [
    "#### Preprocess"
   ]
  },
  {
   "cell_type": "code",
   "execution_count": 16,
   "metadata": {
    "scrolled": true
   },
   "outputs": [
    {
     "data": {
      "text/html": [
       "<div>\n",
       "<style scoped>\n",
       "    .dataframe tbody tr th:only-of-type {\n",
       "        vertical-align: middle;\n",
       "    }\n",
       "\n",
       "    .dataframe tbody tr th {\n",
       "        vertical-align: top;\n",
       "    }\n",
       "\n",
       "    .dataframe thead th {\n",
       "        text-align: right;\n",
       "    }\n",
       "</style>\n",
       "<table border=\"1\" class=\"dataframe\">\n",
       "  <thead>\n",
       "    <tr style=\"text-align: right;\">\n",
       "      <th></th>\n",
       "      <th>avg_glucose_level</th>\n",
       "      <th>bmi</th>\n",
       "      <th>age</th>\n",
       "      <th>gender</th>\n",
       "      <th>hypertension</th>\n",
       "      <th>heart_disease</th>\n",
       "      <th>ever_married</th>\n",
       "      <th>work_type</th>\n",
       "      <th>Residence_type</th>\n",
       "      <th>smoking_status</th>\n",
       "      <th>stroke</th>\n",
       "    </tr>\n",
       "  </thead>\n",
       "  <tbody>\n",
       "    <tr>\n",
       "      <th>0</th>\n",
       "      <td>137.45</td>\n",
       "      <td>26.0</td>\n",
       "      <td>53</td>\n",
       "      <td>Male</td>\n",
       "      <td>0</td>\n",
       "      <td>0</td>\n",
       "      <td>Yes</td>\n",
       "      <td>Self-employed</td>\n",
       "      <td>Rural</td>\n",
       "      <td>smokes</td>\n",
       "      <td>0</td>\n",
       "    </tr>\n",
       "    <tr>\n",
       "      <th>1</th>\n",
       "      <td>56.85</td>\n",
       "      <td>24.4</td>\n",
       "      <td>44</td>\n",
       "      <td>Female</td>\n",
       "      <td>0</td>\n",
       "      <td>0</td>\n",
       "      <td>Yes</td>\n",
       "      <td>Private</td>\n",
       "      <td>Rural</td>\n",
       "      <td>never smoked</td>\n",
       "      <td>0</td>\n",
       "    </tr>\n",
       "    <tr>\n",
       "      <th>2</th>\n",
       "      <td>87.79</td>\n",
       "      <td>41.1</td>\n",
       "      <td>49</td>\n",
       "      <td>Female</td>\n",
       "      <td>0</td>\n",
       "      <td>0</td>\n",
       "      <td>No</td>\n",
       "      <td>Private</td>\n",
       "      <td>Urban</td>\n",
       "      <td>never smoked</td>\n",
       "      <td>0</td>\n",
       "    </tr>\n",
       "    <tr>\n",
       "      <th>3</th>\n",
       "      <td>94.82</td>\n",
       "      <td>22.9</td>\n",
       "      <td>28</td>\n",
       "      <td>Female</td>\n",
       "      <td>0</td>\n",
       "      <td>0</td>\n",
       "      <td>No</td>\n",
       "      <td>Private</td>\n",
       "      <td>Urban</td>\n",
       "      <td>never smoked</td>\n",
       "      <td>0</td>\n",
       "    </tr>\n",
       "    <tr>\n",
       "      <th>4</th>\n",
       "      <td>96.80</td>\n",
       "      <td>29.6</td>\n",
       "      <td>73</td>\n",
       "      <td>Male</td>\n",
       "      <td>0</td>\n",
       "      <td>0</td>\n",
       "      <td>Yes</td>\n",
       "      <td>Private</td>\n",
       "      <td>Urban</td>\n",
       "      <td>formerly smoked</td>\n",
       "      <td>0</td>\n",
       "    </tr>\n",
       "    <tr>\n",
       "      <th>...</th>\n",
       "      <td>...</td>\n",
       "      <td>...</td>\n",
       "      <td>...</td>\n",
       "      <td>...</td>\n",
       "      <td>...</td>\n",
       "      <td>...</td>\n",
       "      <td>...</td>\n",
       "      <td>...</td>\n",
       "      <td>...</td>\n",
       "      <td>...</td>\n",
       "      <td>...</td>\n",
       "    </tr>\n",
       "    <tr>\n",
       "      <th>2735</th>\n",
       "      <td>88.29</td>\n",
       "      <td>36.0</td>\n",
       "      <td>79</td>\n",
       "      <td>Male</td>\n",
       "      <td>0</td>\n",
       "      <td>1</td>\n",
       "      <td>Yes</td>\n",
       "      <td>Self-employed</td>\n",
       "      <td>Urban</td>\n",
       "      <td>never smoked</td>\n",
       "      <td>1</td>\n",
       "    </tr>\n",
       "    <tr>\n",
       "      <th>2736</th>\n",
       "      <td>93.38</td>\n",
       "      <td>26.7</td>\n",
       "      <td>76</td>\n",
       "      <td>Male</td>\n",
       "      <td>0</td>\n",
       "      <td>0</td>\n",
       "      <td>Yes</td>\n",
       "      <td>Self-employed</td>\n",
       "      <td>Rural</td>\n",
       "      <td>formerly smoked</td>\n",
       "      <td>1</td>\n",
       "    </tr>\n",
       "    <tr>\n",
       "      <th>2737</th>\n",
       "      <td>83.27</td>\n",
       "      <td>32.9</td>\n",
       "      <td>56</td>\n",
       "      <td>Female</td>\n",
       "      <td>0</td>\n",
       "      <td>0</td>\n",
       "      <td>Yes</td>\n",
       "      <td>Private</td>\n",
       "      <td>Rural</td>\n",
       "      <td>smokes</td>\n",
       "      <td>1</td>\n",
       "    </tr>\n",
       "    <tr>\n",
       "      <th>2738</th>\n",
       "      <td>75.91</td>\n",
       "      <td>26.7</td>\n",
       "      <td>80</td>\n",
       "      <td>Female</td>\n",
       "      <td>0</td>\n",
       "      <td>0</td>\n",
       "      <td>Yes</td>\n",
       "      <td>Self-employed</td>\n",
       "      <td>Urban</td>\n",
       "      <td>never smoked</td>\n",
       "      <td>1</td>\n",
       "    </tr>\n",
       "    <tr>\n",
       "      <th>2739</th>\n",
       "      <td>77.97</td>\n",
       "      <td>31.5</td>\n",
       "      <td>62</td>\n",
       "      <td>Male</td>\n",
       "      <td>1</td>\n",
       "      <td>1</td>\n",
       "      <td>Yes</td>\n",
       "      <td>Private</td>\n",
       "      <td>Rural</td>\n",
       "      <td>formerly smoked</td>\n",
       "      <td>1</td>\n",
       "    </tr>\n",
       "  </tbody>\n",
       "</table>\n",
       "<p>2740 rows × 11 columns</p>\n",
       "</div>"
      ],
      "text/plain": [
       "      avg_glucose_level   bmi  age  gender  hypertension  heart_disease  \\\n",
       "0                137.45  26.0   53    Male             0              0   \n",
       "1                 56.85  24.4   44  Female             0              0   \n",
       "2                 87.79  41.1   49  Female             0              0   \n",
       "3                 94.82  22.9   28  Female             0              0   \n",
       "4                 96.80  29.6   73    Male             0              0   \n",
       "...                 ...   ...  ...     ...           ...            ...   \n",
       "2735              88.29  36.0   79    Male             0              1   \n",
       "2736              93.38  26.7   76    Male             0              0   \n",
       "2737              83.27  32.9   56  Female             0              0   \n",
       "2738              75.91  26.7   80  Female             0              0   \n",
       "2739              77.97  31.5   62    Male             1              1   \n",
       "\n",
       "     ever_married      work_type Residence_type   smoking_status  stroke  \n",
       "0             Yes  Self-employed          Rural           smokes       0  \n",
       "1             Yes        Private          Rural     never smoked       0  \n",
       "2              No        Private          Urban     never smoked       0  \n",
       "3              No        Private          Urban     never smoked       0  \n",
       "4             Yes        Private          Urban  formerly smoked       0  \n",
       "...           ...            ...            ...              ...     ...  \n",
       "2735          Yes  Self-employed          Urban     never smoked       1  \n",
       "2736          Yes  Self-employed          Rural  formerly smoked       1  \n",
       "2737          Yes        Private          Rural           smokes       1  \n",
       "2738          Yes  Self-employed          Urban     never smoked       1  \n",
       "2739          Yes        Private          Rural  formerly smoked       1  \n",
       "\n",
       "[2740 rows x 11 columns]"
      ]
     },
     "execution_count": 16,
     "metadata": {},
     "output_type": "execute_result"
    }
   ],
   "source": [
    "stroke_knn = pd.read_csv('stroke_update.csv')\n",
    "stroke_knn"
   ]
  },
  {
   "cell_type": "code",
   "execution_count": 17,
   "metadata": {
    "scrolled": true
   },
   "outputs": [
    {
     "data": {
      "text/html": [
       "<div>\n",
       "<style scoped>\n",
       "    .dataframe tbody tr th:only-of-type {\n",
       "        vertical-align: middle;\n",
       "    }\n",
       "\n",
       "    .dataframe tbody tr th {\n",
       "        vertical-align: top;\n",
       "    }\n",
       "\n",
       "    .dataframe thead th {\n",
       "        text-align: right;\n",
       "    }\n",
       "</style>\n",
       "<table border=\"1\" class=\"dataframe\">\n",
       "  <thead>\n",
       "    <tr style=\"text-align: right;\">\n",
       "      <th></th>\n",
       "      <th>avg_glucose_level</th>\n",
       "      <th>bmi</th>\n",
       "      <th>age</th>\n",
       "      <th>gender</th>\n",
       "      <th>hypertension</th>\n",
       "      <th>heart_disease</th>\n",
       "      <th>ever_married</th>\n",
       "      <th>Residence_type</th>\n",
       "      <th>smoking_status_formerly smoked</th>\n",
       "      <th>smoking_status_never smoked</th>\n",
       "      <th>smoking_status_smokes</th>\n",
       "      <th>work_type_Govt_job</th>\n",
       "      <th>work_type_Never_worked</th>\n",
       "      <th>work_type_Private</th>\n",
       "      <th>work_type_Self-employed</th>\n",
       "      <th>work_type_children</th>\n",
       "      <th>stroke</th>\n",
       "    </tr>\n",
       "  </thead>\n",
       "  <tbody>\n",
       "    <tr>\n",
       "      <th>0</th>\n",
       "      <td>0.380381</td>\n",
       "      <td>0.252951</td>\n",
       "      <td>0.597222</td>\n",
       "      <td>1</td>\n",
       "      <td>0</td>\n",
       "      <td>0</td>\n",
       "      <td>1</td>\n",
       "      <td>1</td>\n",
       "      <td>0</td>\n",
       "      <td>0</td>\n",
       "      <td>1</td>\n",
       "      <td>0</td>\n",
       "      <td>0</td>\n",
       "      <td>0</td>\n",
       "      <td>1</td>\n",
       "      <td>0</td>\n",
       "      <td>0</td>\n",
       "    </tr>\n",
       "    <tr>\n",
       "      <th>1</th>\n",
       "      <td>0.008490</td>\n",
       "      <td>0.225970</td>\n",
       "      <td>0.472222</td>\n",
       "      <td>0</td>\n",
       "      <td>0</td>\n",
       "      <td>0</td>\n",
       "      <td>1</td>\n",
       "      <td>1</td>\n",
       "      <td>0</td>\n",
       "      <td>1</td>\n",
       "      <td>0</td>\n",
       "      <td>0</td>\n",
       "      <td>0</td>\n",
       "      <td>1</td>\n",
       "      <td>0</td>\n",
       "      <td>0</td>\n",
       "      <td>0</td>\n",
       "    </tr>\n",
       "    <tr>\n",
       "      <th>2</th>\n",
       "      <td>0.151248</td>\n",
       "      <td>0.507589</td>\n",
       "      <td>0.541667</td>\n",
       "      <td>0</td>\n",
       "      <td>0</td>\n",
       "      <td>0</td>\n",
       "      <td>0</td>\n",
       "      <td>0</td>\n",
       "      <td>0</td>\n",
       "      <td>1</td>\n",
       "      <td>0</td>\n",
       "      <td>0</td>\n",
       "      <td>0</td>\n",
       "      <td>1</td>\n",
       "      <td>0</td>\n",
       "      <td>0</td>\n",
       "      <td>0</td>\n",
       "    </tr>\n",
       "    <tr>\n",
       "      <th>3</th>\n",
       "      <td>0.183685</td>\n",
       "      <td>0.200675</td>\n",
       "      <td>0.250000</td>\n",
       "      <td>0</td>\n",
       "      <td>0</td>\n",
       "      <td>0</td>\n",
       "      <td>0</td>\n",
       "      <td>0</td>\n",
       "      <td>0</td>\n",
       "      <td>1</td>\n",
       "      <td>0</td>\n",
       "      <td>0</td>\n",
       "      <td>0</td>\n",
       "      <td>1</td>\n",
       "      <td>0</td>\n",
       "      <td>0</td>\n",
       "      <td>0</td>\n",
       "    </tr>\n",
       "    <tr>\n",
       "      <th>4</th>\n",
       "      <td>0.192821</td>\n",
       "      <td>0.313659</td>\n",
       "      <td>0.875000</td>\n",
       "      <td>1</td>\n",
       "      <td>0</td>\n",
       "      <td>0</td>\n",
       "      <td>1</td>\n",
       "      <td>0</td>\n",
       "      <td>1</td>\n",
       "      <td>0</td>\n",
       "      <td>0</td>\n",
       "      <td>0</td>\n",
       "      <td>0</td>\n",
       "      <td>1</td>\n",
       "      <td>0</td>\n",
       "      <td>0</td>\n",
       "      <td>0</td>\n",
       "    </tr>\n",
       "    <tr>\n",
       "      <th>...</th>\n",
       "      <td>...</td>\n",
       "      <td>...</td>\n",
       "      <td>...</td>\n",
       "      <td>...</td>\n",
       "      <td>...</td>\n",
       "      <td>...</td>\n",
       "      <td>...</td>\n",
       "      <td>...</td>\n",
       "      <td>...</td>\n",
       "      <td>...</td>\n",
       "      <td>...</td>\n",
       "      <td>...</td>\n",
       "      <td>...</td>\n",
       "      <td>...</td>\n",
       "      <td>...</td>\n",
       "      <td>...</td>\n",
       "      <td>...</td>\n",
       "    </tr>\n",
       "    <tr>\n",
       "      <th>2735</th>\n",
       "      <td>0.153555</td>\n",
       "      <td>0.421585</td>\n",
       "      <td>0.958333</td>\n",
       "      <td>1</td>\n",
       "      <td>0</td>\n",
       "      <td>1</td>\n",
       "      <td>1</td>\n",
       "      <td>0</td>\n",
       "      <td>0</td>\n",
       "      <td>1</td>\n",
       "      <td>0</td>\n",
       "      <td>0</td>\n",
       "      <td>0</td>\n",
       "      <td>0</td>\n",
       "      <td>1</td>\n",
       "      <td>0</td>\n",
       "      <td>1</td>\n",
       "    </tr>\n",
       "    <tr>\n",
       "      <th>2736</th>\n",
       "      <td>0.177041</td>\n",
       "      <td>0.264755</td>\n",
       "      <td>0.916667</td>\n",
       "      <td>1</td>\n",
       "      <td>0</td>\n",
       "      <td>0</td>\n",
       "      <td>1</td>\n",
       "      <td>1</td>\n",
       "      <td>1</td>\n",
       "      <td>0</td>\n",
       "      <td>0</td>\n",
       "      <td>0</td>\n",
       "      <td>0</td>\n",
       "      <td>0</td>\n",
       "      <td>1</td>\n",
       "      <td>0</td>\n",
       "      <td>1</td>\n",
       "    </tr>\n",
       "    <tr>\n",
       "      <th>2737</th>\n",
       "      <td>0.130393</td>\n",
       "      <td>0.369309</td>\n",
       "      <td>0.638889</td>\n",
       "      <td>0</td>\n",
       "      <td>0</td>\n",
       "      <td>0</td>\n",
       "      <td>1</td>\n",
       "      <td>1</td>\n",
       "      <td>0</td>\n",
       "      <td>0</td>\n",
       "      <td>1</td>\n",
       "      <td>0</td>\n",
       "      <td>0</td>\n",
       "      <td>1</td>\n",
       "      <td>0</td>\n",
       "      <td>0</td>\n",
       "      <td>1</td>\n",
       "    </tr>\n",
       "    <tr>\n",
       "      <th>2738</th>\n",
       "      <td>0.096433</td>\n",
       "      <td>0.264755</td>\n",
       "      <td>0.972222</td>\n",
       "      <td>0</td>\n",
       "      <td>0</td>\n",
       "      <td>0</td>\n",
       "      <td>1</td>\n",
       "      <td>0</td>\n",
       "      <td>0</td>\n",
       "      <td>1</td>\n",
       "      <td>0</td>\n",
       "      <td>0</td>\n",
       "      <td>0</td>\n",
       "      <td>0</td>\n",
       "      <td>1</td>\n",
       "      <td>0</td>\n",
       "      <td>1</td>\n",
       "    </tr>\n",
       "    <tr>\n",
       "      <th>2739</th>\n",
       "      <td>0.105938</td>\n",
       "      <td>0.345700</td>\n",
       "      <td>0.722222</td>\n",
       "      <td>1</td>\n",
       "      <td>1</td>\n",
       "      <td>1</td>\n",
       "      <td>1</td>\n",
       "      <td>1</td>\n",
       "      <td>1</td>\n",
       "      <td>0</td>\n",
       "      <td>0</td>\n",
       "      <td>0</td>\n",
       "      <td>0</td>\n",
       "      <td>1</td>\n",
       "      <td>0</td>\n",
       "      <td>0</td>\n",
       "      <td>1</td>\n",
       "    </tr>\n",
       "  </tbody>\n",
       "</table>\n",
       "<p>2740 rows × 17 columns</p>\n",
       "</div>"
      ],
      "text/plain": [
       "      avg_glucose_level       bmi       age  gender  hypertension  \\\n",
       "0              0.380381  0.252951  0.597222       1             0   \n",
       "1              0.008490  0.225970  0.472222       0             0   \n",
       "2              0.151248  0.507589  0.541667       0             0   \n",
       "3              0.183685  0.200675  0.250000       0             0   \n",
       "4              0.192821  0.313659  0.875000       1             0   \n",
       "...                 ...       ...       ...     ...           ...   \n",
       "2735           0.153555  0.421585  0.958333       1             0   \n",
       "2736           0.177041  0.264755  0.916667       1             0   \n",
       "2737           0.130393  0.369309  0.638889       0             0   \n",
       "2738           0.096433  0.264755  0.972222       0             0   \n",
       "2739           0.105938  0.345700  0.722222       1             1   \n",
       "\n",
       "      heart_disease  ever_married  Residence_type  \\\n",
       "0                 0             1               1   \n",
       "1                 0             1               1   \n",
       "2                 0             0               0   \n",
       "3                 0             0               0   \n",
       "4                 0             1               0   \n",
       "...             ...           ...             ...   \n",
       "2735              1             1               0   \n",
       "2736              0             1               1   \n",
       "2737              0             1               1   \n",
       "2738              0             1               0   \n",
       "2739              1             1               1   \n",
       "\n",
       "      smoking_status_formerly smoked  smoking_status_never smoked  \\\n",
       "0                                  0                            0   \n",
       "1                                  0                            1   \n",
       "2                                  0                            1   \n",
       "3                                  0                            1   \n",
       "4                                  1                            0   \n",
       "...                              ...                          ...   \n",
       "2735                               0                            1   \n",
       "2736                               1                            0   \n",
       "2737                               0                            0   \n",
       "2738                               0                            1   \n",
       "2739                               1                            0   \n",
       "\n",
       "      smoking_status_smokes  work_type_Govt_job  work_type_Never_worked  \\\n",
       "0                         1                   0                       0   \n",
       "1                         0                   0                       0   \n",
       "2                         0                   0                       0   \n",
       "3                         0                   0                       0   \n",
       "4                         0                   0                       0   \n",
       "...                     ...                 ...                     ...   \n",
       "2735                      0                   0                       0   \n",
       "2736                      0                   0                       0   \n",
       "2737                      1                   0                       0   \n",
       "2738                      0                   0                       0   \n",
       "2739                      0                   0                       0   \n",
       "\n",
       "      work_type_Private  work_type_Self-employed  work_type_children  stroke  \n",
       "0                     0                        1                   0       0  \n",
       "1                     1                        0                   0       0  \n",
       "2                     1                        0                   0       0  \n",
       "3                     1                        0                   0       0  \n",
       "4                     1                        0                   0       0  \n",
       "...                 ...                      ...                 ...     ...  \n",
       "2735                  0                        1                   0       1  \n",
       "2736                  0                        1                   0       1  \n",
       "2737                  1                        0                   0       1  \n",
       "2738                  0                        1                   0       1  \n",
       "2739                  1                        0                   0       1  \n",
       "\n",
       "[2740 rows x 17 columns]"
      ]
     },
     "execution_count": 17,
     "metadata": {},
     "output_type": "execute_result"
    }
   ],
   "source": [
    "stroke_knn = preprocess(stroke_knn)\n",
    "stroke_knn"
   ]
  },
  {
   "cell_type": "code",
   "execution_count": 18,
   "metadata": {},
   "outputs": [],
   "source": [
    "def split_data(data, k):\n",
    "    kf = StratifiedKFold(n_splits=k)\n",
    "    data_X, data_Y = data.iloc[:, 0:len(data.columns)-1], data.iloc[:, [-1]]\n",
    "    \n",
    "    for train_index, test_index in kf.split(data_X, data_Y):\n",
    "        X_train, Y_train = data_X.iloc[train_index,:], data_Y.iloc[train_index,:]\n",
    "        X_test,  Y_test  = data_X.iloc[test_index, :], data_Y.iloc[test_index, :]\n",
    "        yield X_train, Y_train, X_test, Y_test"
   ]
  },
  {
   "cell_type": "markdown",
   "metadata": {},
   "source": [
    "#### Optimal k for euclidean distance"
   ]
  },
  {
   "cell_type": "code",
   "execution_count": 27,
   "metadata": {
    "scrolled": true
   },
   "outputs": [
    {
     "name": "stdout",
     "output_type": "stream",
     "text": [
      "1\n",
      "2\n",
      "3\n",
      "4\n",
      "5\n",
      "6\n",
      "7\n",
      "8\n",
      "9\n",
      "10\n",
      "11\n",
      "12\n",
      "13\n",
      "14\n",
      "15\n",
      "16\n",
      "17\n",
      "18\n",
      "19\n",
      "20\n",
      "21\n",
      "22\n",
      "23\n",
      "24\n",
      "25\n",
      "26\n",
      "27\n",
      "28\n",
      "29\n",
      "30\n",
      "31\n",
      "32\n",
      "33\n",
      "34\n",
      "35\n",
      "36\n",
      "37\n",
      "38\n",
      "39\n",
      "40\n",
      "41\n",
      "42\n",
      "43\n",
      "44\n",
      "45\n",
      "46\n",
      "47\n",
      "48\n",
      "49\n",
      "50\n",
      "51\n",
      "52\n",
      "53\n",
      "54\n",
      "55\n",
      "56\n",
      "57\n",
      "58\n",
      "59\n",
      "60\n",
      "61\n",
      "62\n",
      "63\n",
      "64\n",
      "65\n",
      "66\n",
      "67\n",
      "68\n",
      "69\n",
      "70\n",
      "71\n",
      "72\n"
     ]
    },
    {
     "name": "stderr",
     "output_type": "stream",
     "text": [
      "/usr/local/lib/python3.7/site-packages/sklearn/metrics/_classification.py:1221: UndefinedMetricWarning: Precision and F-score are ill-defined and being set to 0.0 in labels with no predicted samples. Use `zero_division` parameter to control this behavior.\n",
      "  _warn_prf(average, modifier, msg_start, len(result))\n"
     ]
    },
    {
     "name": "stdout",
     "output_type": "stream",
     "text": [
      "73\n"
     ]
    },
    {
     "name": "stderr",
     "output_type": "stream",
     "text": [
      "/usr/local/lib/python3.7/site-packages/sklearn/metrics/_classification.py:1221: UndefinedMetricWarning: Precision and F-score are ill-defined and being set to 0.0 in labels with no predicted samples. Use `zero_division` parameter to control this behavior.\n",
      "  _warn_prf(average, modifier, msg_start, len(result))\n"
     ]
    },
    {
     "name": "stdout",
     "output_type": "stream",
     "text": [
      "74\n"
     ]
    },
    {
     "name": "stderr",
     "output_type": "stream",
     "text": [
      "/usr/local/lib/python3.7/site-packages/sklearn/metrics/_classification.py:1221: UndefinedMetricWarning: Precision and F-score are ill-defined and being set to 0.0 in labels with no predicted samples. Use `zero_division` parameter to control this behavior.\n",
      "  _warn_prf(average, modifier, msg_start, len(result))\n"
     ]
    },
    {
     "name": "stdout",
     "output_type": "stream",
     "text": [
      "75\n"
     ]
    },
    {
     "name": "stderr",
     "output_type": "stream",
     "text": [
      "/usr/local/lib/python3.7/site-packages/sklearn/metrics/_classification.py:1221: UndefinedMetricWarning: Precision and F-score are ill-defined and being set to 0.0 in labels with no predicted samples. Use `zero_division` parameter to control this behavior.\n",
      "  _warn_prf(average, modifier, msg_start, len(result))\n"
     ]
    },
    {
     "name": "stdout",
     "output_type": "stream",
     "text": [
      "76\n"
     ]
    },
    {
     "name": "stderr",
     "output_type": "stream",
     "text": [
      "/usr/local/lib/python3.7/site-packages/sklearn/metrics/_classification.py:1221: UndefinedMetricWarning: Precision and F-score are ill-defined and being set to 0.0 in labels with no predicted samples. Use `zero_division` parameter to control this behavior.\n",
      "  _warn_prf(average, modifier, msg_start, len(result))\n"
     ]
    },
    {
     "name": "stdout",
     "output_type": "stream",
     "text": [
      "77\n"
     ]
    },
    {
     "name": "stderr",
     "output_type": "stream",
     "text": [
      "/usr/local/lib/python3.7/site-packages/sklearn/metrics/_classification.py:1221: UndefinedMetricWarning: Precision and F-score are ill-defined and being set to 0.0 in labels with no predicted samples. Use `zero_division` parameter to control this behavior.\n",
      "  _warn_prf(average, modifier, msg_start, len(result))\n"
     ]
    },
    {
     "name": "stdout",
     "output_type": "stream",
     "text": [
      "78\n"
     ]
    },
    {
     "name": "stderr",
     "output_type": "stream",
     "text": [
      "/usr/local/lib/python3.7/site-packages/sklearn/metrics/_classification.py:1221: UndefinedMetricWarning: Precision and F-score are ill-defined and being set to 0.0 in labels with no predicted samples. Use `zero_division` parameter to control this behavior.\n",
      "  _warn_prf(average, modifier, msg_start, len(result))\n"
     ]
    },
    {
     "name": "stdout",
     "output_type": "stream",
     "text": [
      "79\n"
     ]
    },
    {
     "name": "stderr",
     "output_type": "stream",
     "text": [
      "/usr/local/lib/python3.7/site-packages/sklearn/metrics/_classification.py:1221: UndefinedMetricWarning: Precision and F-score are ill-defined and being set to 0.0 in labels with no predicted samples. Use `zero_division` parameter to control this behavior.\n",
      "  _warn_prf(average, modifier, msg_start, len(result))\n"
     ]
    },
    {
     "name": "stdout",
     "output_type": "stream",
     "text": [
      "80\n"
     ]
    },
    {
     "name": "stderr",
     "output_type": "stream",
     "text": [
      "/usr/local/lib/python3.7/site-packages/sklearn/metrics/_classification.py:1221: UndefinedMetricWarning: Precision and F-score are ill-defined and being set to 0.0 in labels with no predicted samples. Use `zero_division` parameter to control this behavior.\n",
      "  _warn_prf(average, modifier, msg_start, len(result))\n"
     ]
    },
    {
     "name": "stdout",
     "output_type": "stream",
     "text": [
      "81\n"
     ]
    },
    {
     "name": "stderr",
     "output_type": "stream",
     "text": [
      "/usr/local/lib/python3.7/site-packages/sklearn/metrics/_classification.py:1221: UndefinedMetricWarning: Precision and F-score are ill-defined and being set to 0.0 in labels with no predicted samples. Use `zero_division` parameter to control this behavior.\n",
      "  _warn_prf(average, modifier, msg_start, len(result))\n"
     ]
    },
    {
     "name": "stdout",
     "output_type": "stream",
     "text": [
      "82\n"
     ]
    },
    {
     "name": "stderr",
     "output_type": "stream",
     "text": [
      "/usr/local/lib/python3.7/site-packages/sklearn/metrics/_classification.py:1221: UndefinedMetricWarning: Precision and F-score are ill-defined and being set to 0.0 in labels with no predicted samples. Use `zero_division` parameter to control this behavior.\n",
      "  _warn_prf(average, modifier, msg_start, len(result))\n"
     ]
    },
    {
     "name": "stdout",
     "output_type": "stream",
     "text": [
      "83\n",
      "84\n"
     ]
    },
    {
     "name": "stderr",
     "output_type": "stream",
     "text": [
      "/usr/local/lib/python3.7/site-packages/sklearn/metrics/_classification.py:1221: UndefinedMetricWarning: Precision and F-score are ill-defined and being set to 0.0 in labels with no predicted samples. Use `zero_division` parameter to control this behavior.\n",
      "  _warn_prf(average, modifier, msg_start, len(result))\n",
      "/usr/local/lib/python3.7/site-packages/sklearn/metrics/_classification.py:1221: UndefinedMetricWarning: Precision and F-score are ill-defined and being set to 0.0 in labels with no predicted samples. Use `zero_division` parameter to control this behavior.\n",
      "  _warn_prf(average, modifier, msg_start, len(result))\n",
      "/usr/local/lib/python3.7/site-packages/sklearn/metrics/_classification.py:1221: UndefinedMetricWarning: Precision and F-score are ill-defined and being set to 0.0 in labels with no predicted samples. Use `zero_division` parameter to control this behavior.\n",
      "  _warn_prf(average, modifier, msg_start, len(result))\n"
     ]
    },
    {
     "name": "stdout",
     "output_type": "stream",
     "text": [
      "85\n"
     ]
    },
    {
     "name": "stderr",
     "output_type": "stream",
     "text": [
      "/usr/local/lib/python3.7/site-packages/sklearn/metrics/_classification.py:1221: UndefinedMetricWarning: Precision and F-score are ill-defined and being set to 0.0 in labels with no predicted samples. Use `zero_division` parameter to control this behavior.\n",
      "  _warn_prf(average, modifier, msg_start, len(result))\n",
      "/usr/local/lib/python3.7/site-packages/sklearn/metrics/_classification.py:1221: UndefinedMetricWarning: Precision and F-score are ill-defined and being set to 0.0 in labels with no predicted samples. Use `zero_division` parameter to control this behavior.\n",
      "  _warn_prf(average, modifier, msg_start, len(result))\n"
     ]
    },
    {
     "name": "stdout",
     "output_type": "stream",
     "text": [
      "86\n"
     ]
    },
    {
     "name": "stderr",
     "output_type": "stream",
     "text": [
      "/usr/local/lib/python3.7/site-packages/sklearn/metrics/_classification.py:1221: UndefinedMetricWarning: Precision and F-score are ill-defined and being set to 0.0 in labels with no predicted samples. Use `zero_division` parameter to control this behavior.\n",
      "  _warn_prf(average, modifier, msg_start, len(result))\n",
      "/usr/local/lib/python3.7/site-packages/sklearn/metrics/_classification.py:1221: UndefinedMetricWarning: Precision and F-score are ill-defined and being set to 0.0 in labels with no predicted samples. Use `zero_division` parameter to control this behavior.\n",
      "  _warn_prf(average, modifier, msg_start, len(result))\n"
     ]
    },
    {
     "name": "stdout",
     "output_type": "stream",
     "text": [
      "87\n"
     ]
    },
    {
     "name": "stderr",
     "output_type": "stream",
     "text": [
      "/usr/local/lib/python3.7/site-packages/sklearn/metrics/_classification.py:1221: UndefinedMetricWarning: Precision and F-score are ill-defined and being set to 0.0 in labels with no predicted samples. Use `zero_division` parameter to control this behavior.\n",
      "  _warn_prf(average, modifier, msg_start, len(result))\n",
      "/usr/local/lib/python3.7/site-packages/sklearn/metrics/_classification.py:1221: UndefinedMetricWarning: Precision and F-score are ill-defined and being set to 0.0 in labels with no predicted samples. Use `zero_division` parameter to control this behavior.\n",
      "  _warn_prf(average, modifier, msg_start, len(result))\n"
     ]
    },
    {
     "name": "stdout",
     "output_type": "stream",
     "text": [
      "88\n"
     ]
    },
    {
     "name": "stderr",
     "output_type": "stream",
     "text": [
      "/usr/local/lib/python3.7/site-packages/sklearn/metrics/_classification.py:1221: UndefinedMetricWarning: Precision and F-score are ill-defined and being set to 0.0 in labels with no predicted samples. Use `zero_division` parameter to control this behavior.\n",
      "  _warn_prf(average, modifier, msg_start, len(result))\n",
      "/usr/local/lib/python3.7/site-packages/sklearn/metrics/_classification.py:1221: UndefinedMetricWarning: Precision and F-score are ill-defined and being set to 0.0 in labels with no predicted samples. Use `zero_division` parameter to control this behavior.\n",
      "  _warn_prf(average, modifier, msg_start, len(result))\n"
     ]
    },
    {
     "name": "stdout",
     "output_type": "stream",
     "text": [
      "89\n",
      "90\n"
     ]
    },
    {
     "name": "stderr",
     "output_type": "stream",
     "text": [
      "/usr/local/lib/python3.7/site-packages/sklearn/metrics/_classification.py:1221: UndefinedMetricWarning: Precision and F-score are ill-defined and being set to 0.0 in labels with no predicted samples. Use `zero_division` parameter to control this behavior.\n",
      "  _warn_prf(average, modifier, msg_start, len(result))\n"
     ]
    },
    {
     "name": "stdout",
     "output_type": "stream",
     "text": [
      "91\n"
     ]
    },
    {
     "name": "stderr",
     "output_type": "stream",
     "text": [
      "/usr/local/lib/python3.7/site-packages/sklearn/metrics/_classification.py:1221: UndefinedMetricWarning: Precision and F-score are ill-defined and being set to 0.0 in labels with no predicted samples. Use `zero_division` parameter to control this behavior.\n",
      "  _warn_prf(average, modifier, msg_start, len(result))\n"
     ]
    },
    {
     "name": "stdout",
     "output_type": "stream",
     "text": [
      "92\n"
     ]
    },
    {
     "name": "stderr",
     "output_type": "stream",
     "text": [
      "/usr/local/lib/python3.7/site-packages/sklearn/metrics/_classification.py:1221: UndefinedMetricWarning: Precision and F-score are ill-defined and being set to 0.0 in labels with no predicted samples. Use `zero_division` parameter to control this behavior.\n",
      "  _warn_prf(average, modifier, msg_start, len(result))\n"
     ]
    },
    {
     "name": "stdout",
     "output_type": "stream",
     "text": [
      "93\n"
     ]
    },
    {
     "name": "stderr",
     "output_type": "stream",
     "text": [
      "/usr/local/lib/python3.7/site-packages/sklearn/metrics/_classification.py:1221: UndefinedMetricWarning: Precision and F-score are ill-defined and being set to 0.0 in labels with no predicted samples. Use `zero_division` parameter to control this behavior.\n",
      "  _warn_prf(average, modifier, msg_start, len(result))\n",
      "/usr/local/lib/python3.7/site-packages/sklearn/metrics/_classification.py:1221: UndefinedMetricWarning: Precision and F-score are ill-defined and being set to 0.0 in labels with no predicted samples. Use `zero_division` parameter to control this behavior.\n",
      "  _warn_prf(average, modifier, msg_start, len(result))\n"
     ]
    },
    {
     "name": "stdout",
     "output_type": "stream",
     "text": [
      "94\n"
     ]
    },
    {
     "name": "stderr",
     "output_type": "stream",
     "text": [
      "/usr/local/lib/python3.7/site-packages/sklearn/metrics/_classification.py:1221: UndefinedMetricWarning: Precision and F-score are ill-defined and being set to 0.0 in labels with no predicted samples. Use `zero_division` parameter to control this behavior.\n",
      "  _warn_prf(average, modifier, msg_start, len(result))\n",
      "/usr/local/lib/python3.7/site-packages/sklearn/metrics/_classification.py:1221: UndefinedMetricWarning: Precision and F-score are ill-defined and being set to 0.0 in labels with no predicted samples. Use `zero_division` parameter to control this behavior.\n",
      "  _warn_prf(average, modifier, msg_start, len(result))\n",
      "/usr/local/lib/python3.7/site-packages/sklearn/metrics/_classification.py:1221: UndefinedMetricWarning: Precision and F-score are ill-defined and being set to 0.0 in labels with no predicted samples. Use `zero_division` parameter to control this behavior.\n",
      "  _warn_prf(average, modifier, msg_start, len(result))\n"
     ]
    },
    {
     "name": "stdout",
     "output_type": "stream",
     "text": [
      "95\n"
     ]
    },
    {
     "name": "stderr",
     "output_type": "stream",
     "text": [
      "/usr/local/lib/python3.7/site-packages/sklearn/metrics/_classification.py:1221: UndefinedMetricWarning: Precision and F-score are ill-defined and being set to 0.0 in labels with no predicted samples. Use `zero_division` parameter to control this behavior.\n",
      "  _warn_prf(average, modifier, msg_start, len(result))\n",
      "/usr/local/lib/python3.7/site-packages/sklearn/metrics/_classification.py:1221: UndefinedMetricWarning: Precision and F-score are ill-defined and being set to 0.0 in labels with no predicted samples. Use `zero_division` parameter to control this behavior.\n",
      "  _warn_prf(average, modifier, msg_start, len(result))\n",
      "/usr/local/lib/python3.7/site-packages/sklearn/metrics/_classification.py:1221: UndefinedMetricWarning: Precision and F-score are ill-defined and being set to 0.0 in labels with no predicted samples. Use `zero_division` parameter to control this behavior.\n",
      "  _warn_prf(average, modifier, msg_start, len(result))\n"
     ]
    },
    {
     "name": "stdout",
     "output_type": "stream",
     "text": [
      "96\n"
     ]
    },
    {
     "name": "stderr",
     "output_type": "stream",
     "text": [
      "/usr/local/lib/python3.7/site-packages/sklearn/metrics/_classification.py:1221: UndefinedMetricWarning: Precision and F-score are ill-defined and being set to 0.0 in labels with no predicted samples. Use `zero_division` parameter to control this behavior.\n",
      "  _warn_prf(average, modifier, msg_start, len(result))\n",
      "/usr/local/lib/python3.7/site-packages/sklearn/metrics/_classification.py:1221: UndefinedMetricWarning: Precision and F-score are ill-defined and being set to 0.0 in labels with no predicted samples. Use `zero_division` parameter to control this behavior.\n",
      "  _warn_prf(average, modifier, msg_start, len(result))\n",
      "/usr/local/lib/python3.7/site-packages/sklearn/metrics/_classification.py:1221: UndefinedMetricWarning: Precision and F-score are ill-defined and being set to 0.0 in labels with no predicted samples. Use `zero_division` parameter to control this behavior.\n",
      "  _warn_prf(average, modifier, msg_start, len(result))\n"
     ]
    },
    {
     "name": "stdout",
     "output_type": "stream",
     "text": [
      "97\n"
     ]
    },
    {
     "name": "stderr",
     "output_type": "stream",
     "text": [
      "/usr/local/lib/python3.7/site-packages/sklearn/metrics/_classification.py:1221: UndefinedMetricWarning: Precision and F-score are ill-defined and being set to 0.0 in labels with no predicted samples. Use `zero_division` parameter to control this behavior.\n",
      "  _warn_prf(average, modifier, msg_start, len(result))\n",
      "/usr/local/lib/python3.7/site-packages/sklearn/metrics/_classification.py:1221: UndefinedMetricWarning: Precision and F-score are ill-defined and being set to 0.0 in labels with no predicted samples. Use `zero_division` parameter to control this behavior.\n",
      "  _warn_prf(average, modifier, msg_start, len(result))\n",
      "/usr/local/lib/python3.7/site-packages/sklearn/metrics/_classification.py:1221: UndefinedMetricWarning: Precision and F-score are ill-defined and being set to 0.0 in labels with no predicted samples. Use `zero_division` parameter to control this behavior.\n",
      "  _warn_prf(average, modifier, msg_start, len(result))\n"
     ]
    },
    {
     "name": "stdout",
     "output_type": "stream",
     "text": [
      "98\n"
     ]
    },
    {
     "name": "stderr",
     "output_type": "stream",
     "text": [
      "/usr/local/lib/python3.7/site-packages/sklearn/metrics/_classification.py:1221: UndefinedMetricWarning: Precision and F-score are ill-defined and being set to 0.0 in labels with no predicted samples. Use `zero_division` parameter to control this behavior.\n",
      "  _warn_prf(average, modifier, msg_start, len(result))\n",
      "/usr/local/lib/python3.7/site-packages/sklearn/metrics/_classification.py:1221: UndefinedMetricWarning: Precision and F-score are ill-defined and being set to 0.0 in labels with no predicted samples. Use `zero_division` parameter to control this behavior.\n",
      "  _warn_prf(average, modifier, msg_start, len(result))\n",
      "/usr/local/lib/python3.7/site-packages/sklearn/metrics/_classification.py:1221: UndefinedMetricWarning: Precision and F-score are ill-defined and being set to 0.0 in labels with no predicted samples. Use `zero_division` parameter to control this behavior.\n",
      "  _warn_prf(average, modifier, msg_start, len(result))\n"
     ]
    },
    {
     "name": "stdout",
     "output_type": "stream",
     "text": [
      "99\n"
     ]
    },
    {
     "name": "stderr",
     "output_type": "stream",
     "text": [
      "/usr/local/lib/python3.7/site-packages/sklearn/metrics/_classification.py:1221: UndefinedMetricWarning: Precision and F-score are ill-defined and being set to 0.0 in labels with no predicted samples. Use `zero_division` parameter to control this behavior.\n",
      "  _warn_prf(average, modifier, msg_start, len(result))\n",
      "/usr/local/lib/python3.7/site-packages/sklearn/metrics/_classification.py:1221: UndefinedMetricWarning: Precision and F-score are ill-defined and being set to 0.0 in labels with no predicted samples. Use `zero_division` parameter to control this behavior.\n",
      "  _warn_prf(average, modifier, msg_start, len(result))\n",
      "/usr/local/lib/python3.7/site-packages/sklearn/metrics/_classification.py:1221: UndefinedMetricWarning: Precision and F-score are ill-defined and being set to 0.0 in labels with no predicted samples. Use `zero_division` parameter to control this behavior.\n",
      "  _warn_prf(average, modifier, msg_start, len(result))\n"
     ]
    }
   ],
   "source": [
    "x = []\n",
    "accuracies = []\n",
    "precisions = []\n",
    "recalls = []\n",
    "f1s = []\n",
    "k_range = 100\n",
    "\n",
    "for k in range(1, k_range):\n",
    "    print(k)\n",
    "    classifier = KNeighborsClassifier(n_neighbors=k, metric='euclidean', weights='distance')\n",
    "    x.append(k)\n",
    "    accuracy, precision, recall, f1 = 0, 0, 0, 0\n",
    "    i = 0\n",
    "    for X_train, Y_train, X_test, Y_test in split_data(stroke_knn, k=10):        \n",
    "        classifier.fit(X_train, np.ravel(Y_train))\n",
    "        prediction = classifier.predict(X_test)\n",
    "        _, accu, PRF = evaluate(np.ravel(Y_test), prediction)\n",
    "        accuracy += accu\n",
    "        precision += PRF[0]\n",
    "        recall += PRF[1]\n",
    "        f1 += PRF[2]\n",
    "        i += 1\n",
    "    \n",
    "    accuracy /= i\n",
    "    precision /= i\n",
    "    recall /= i\n",
    "    f1 /= i\n",
    "    \n",
    "    accuracies.append(accuracy)\n",
    "    precisions.append(precision)\n",
    "    recalls.append(recall)\n",
    "    f1s.append(f1)\n",
    "    "
   ]
  },
  {
   "cell_type": "code",
   "execution_count": 20,
   "metadata": {},
   "outputs": [
    {
     "data": {
      "image/png": "[encoded data removed]",
      "text/plain": [
       "<Figure size 1440x216 with 1 Axes>"
      ]
     },
     "metadata": {
      "needs_background": "light"
     },
     "output_type": "display_data"
    },
    {
     "data": {
      "image/png": "[encoded data removed]",
      "text/plain": [
       "<Figure size 1440x216 with 1 Axes>"
      ]
     },
     "metadata": {
      "needs_background": "light"
     },
     "output_type": "display_data"
    },
    {
     "data": {
      "image/png": "[encoded data removed]",
      "text/plain": [
       "<Figure size 1440x216 with 1 Axes>"
      ]
     },
     "metadata": {
      "needs_background": "light"
     },
     "output_type": "display_data"
    },
    {
     "data": {
      "image/png": "[encoded data removed]",
      "text/plain": [
       "<Figure size 1440x216 with 1 Axes>"
      ]
     },
     "metadata": {
      "needs_background": "light"
     },
     "output_type": "display_data"
    }
   ],
   "source": [
    "plt.figure(figsize=(20, 3))\n",
    "plt.plot(x, accuracies, 'b-')\n",
    "plt.xlabel(\"k\")\n",
    "plt.ylabel(\"accuracy\")\n",
    "plt.title(\"knn optimization\")\n",
    "plt.show()\n",
    "\n",
    "plt.figure(figsize=(20, 3))\n",
    "plt.plot(x, precisions, 'b-')\n",
    "plt.xlabel(\"k\")\n",
    "plt.ylabel(\"precision\")\n",
    "plt.title(\"knn optimization\")\n",
    "plt.show()\n",
    "\n",
    "plt.figure(figsize=(20, 3))\n",
    "plt.plot(x, recalls, 'b-')\n",
    "plt.xlabel(\"k\")\n",
    "plt.ylabel(\"recal\")\n",
    "plt.title(\"knn optimization\")\n",
    "plt.show()\n",
    "\n",
    "plt.figure(figsize=(20, 3))\n",
    "plt.plot(x, f1s, 'b-')\n",
    "plt.xlabel(\"k\")\n",
    "plt.ylabel(\"f1-score\")\n",
    "plt.title(\"knn optimization\")\n",
    "plt.show()"
   ]
  },
  {
   "cell_type": "code",
   "execution_count": 21,
   "metadata": {},
   "outputs": [
    {
     "name": "stdout",
     "output_type": "stream",
     "text": [
      "k 44 maximize accuracy: 0.8040145985401461\n",
      "k 48 maximize precision: 0.715114476120789\n",
      "k 5 maximize recall  0.617695101701951\n",
      "k 5 maximize f1-score : 0.6290799995502072\n"
     ]
    }
   ],
   "source": [
    "print(\"k\", x[np.argmax(accuracies)], \"maximize accuracy:\", accuracies[np.argmax(accuracies)])\n",
    "print(\"k\", x[np.argmax(precisions)], \"maximize precision:\", precisions[np.argmax(precisions)])\n",
    "print(\"k\", x[np.argmax(recalls)], \"maximize recall \", recalls[np.argmax(recalls)])\n",
    "print(\"k\", x[np.argmax(f1s)], \"maximize f1-score :\", f1s[np.argmax(f1s)])"
   ]
  },
  {
   "cell_type": "markdown",
   "metadata": {},
   "source": [
    "#### Optimal k for manhattan distance"
   ]
  },
  {
   "cell_type": "code",
   "execution_count": 22,
   "metadata": {
    "scrolled": true
   },
   "outputs": [
    {
     "name": "stdout",
     "output_type": "stream",
     "text": [
      "1\n",
      "2\n",
      "3\n",
      "4\n",
      "5\n",
      "6\n",
      "7\n",
      "8\n",
      "9\n",
      "10\n",
      "11\n",
      "12\n",
      "13\n",
      "14\n",
      "15\n",
      "16\n",
      "17\n",
      "18\n",
      "19\n",
      "20\n",
      "21\n",
      "22\n",
      "23\n",
      "24\n",
      "25\n",
      "26\n",
      "27\n",
      "28\n",
      "29\n",
      "30\n",
      "31\n",
      "32\n",
      "33\n",
      "34\n",
      "35\n",
      "36\n",
      "37\n",
      "38\n",
      "39\n",
      "40\n",
      "41\n",
      "42\n",
      "43\n",
      "44\n",
      "45\n",
      "46\n",
      "47\n",
      "48\n",
      "49\n",
      "50\n",
      "51\n",
      "52\n",
      "53\n",
      "54\n",
      "55\n",
      "56\n",
      "57\n",
      "58\n",
      "59\n",
      "60\n",
      "61\n",
      "62\n",
      "63\n",
      "64\n",
      "65\n",
      "66\n",
      "67\n",
      "68\n",
      "69\n",
      "70\n",
      "71\n",
      "72\n",
      "73\n",
      "74\n",
      "75\n",
      "76\n"
     ]
    },
    {
     "name": "stderr",
     "output_type": "stream",
     "text": [
      "/usr/local/lib/python3.7/site-packages/sklearn/metrics/_classification.py:1221: UndefinedMetricWarning: Precision and F-score are ill-defined and being set to 0.0 in labels with no predicted samples. Use `zero_division` parameter to control this behavior.\n",
      "  _warn_prf(average, modifier, msg_start, len(result))\n"
     ]
    },
    {
     "name": "stdout",
     "output_type": "stream",
     "text": [
      "77\n",
      "78\n"
     ]
    },
    {
     "name": "stderr",
     "output_type": "stream",
     "text": [
      "/usr/local/lib/python3.7/site-packages/sklearn/metrics/_classification.py:1221: UndefinedMetricWarning: Precision and F-score are ill-defined and being set to 0.0 in labels with no predicted samples. Use `zero_division` parameter to control this behavior.\n",
      "  _warn_prf(average, modifier, msg_start, len(result))\n"
     ]
    },
    {
     "name": "stdout",
     "output_type": "stream",
     "text": [
      "79\n"
     ]
    },
    {
     "name": "stderr",
     "output_type": "stream",
     "text": [
      "/usr/local/lib/python3.7/site-packages/sklearn/metrics/_classification.py:1221: UndefinedMetricWarning: Precision and F-score are ill-defined and being set to 0.0 in labels with no predicted samples. Use `zero_division` parameter to control this behavior.\n",
      "  _warn_prf(average, modifier, msg_start, len(result))\n"
     ]
    },
    {
     "name": "stdout",
     "output_type": "stream",
     "text": [
      "80\n"
     ]
    },
    {
     "name": "stderr",
     "output_type": "stream",
     "text": [
      "/usr/local/lib/python3.7/site-packages/sklearn/metrics/_classification.py:1221: UndefinedMetricWarning: Precision and F-score are ill-defined and being set to 0.0 in labels with no predicted samples. Use `zero_division` parameter to control this behavior.\n",
      "  _warn_prf(average, modifier, msg_start, len(result))\n"
     ]
    },
    {
     "name": "stdout",
     "output_type": "stream",
     "text": [
      "81\n"
     ]
    },
    {
     "name": "stderr",
     "output_type": "stream",
     "text": [
      "/usr/local/lib/python3.7/site-packages/sklearn/metrics/_classification.py:1221: UndefinedMetricWarning: Precision and F-score are ill-defined and being set to 0.0 in labels with no predicted samples. Use `zero_division` parameter to control this behavior.\n",
      "  _warn_prf(average, modifier, msg_start, len(result))\n"
     ]
    },
    {
     "name": "stdout",
     "output_type": "stream",
     "text": [
      "82\n"
     ]
    },
    {
     "name": "stderr",
     "output_type": "stream",
     "text": [
      "/usr/local/lib/python3.7/site-packages/sklearn/metrics/_classification.py:1221: UndefinedMetricWarning: Precision and F-score are ill-defined and being set to 0.0 in labels with no predicted samples. Use `zero_division` parameter to control this behavior.\n",
      "  _warn_prf(average, modifier, msg_start, len(result))\n"
     ]
    },
    {
     "name": "stdout",
     "output_type": "stream",
     "text": [
      "83\n"
     ]
    },
    {
     "name": "stderr",
     "output_type": "stream",
     "text": [
      "/usr/local/lib/python3.7/site-packages/sklearn/metrics/_classification.py:1221: UndefinedMetricWarning: Precision and F-score are ill-defined and being set to 0.0 in labels with no predicted samples. Use `zero_division` parameter to control this behavior.\n",
      "  _warn_prf(average, modifier, msg_start, len(result))\n"
     ]
    },
    {
     "name": "stdout",
     "output_type": "stream",
     "text": [
      "84\n"
     ]
    },
    {
     "name": "stderr",
     "output_type": "stream",
     "text": [
      "/usr/local/lib/python3.7/site-packages/sklearn/metrics/_classification.py:1221: UndefinedMetricWarning: Precision and F-score are ill-defined and being set to 0.0 in labels with no predicted samples. Use `zero_division` parameter to control this behavior.\n",
      "  _warn_prf(average, modifier, msg_start, len(result))\n"
     ]
    },
    {
     "name": "stdout",
     "output_type": "stream",
     "text": [
      "85\n"
     ]
    },
    {
     "name": "stderr",
     "output_type": "stream",
     "text": [
      "/usr/local/lib/python3.7/site-packages/sklearn/metrics/_classification.py:1221: UndefinedMetricWarning: Precision and F-score are ill-defined and being set to 0.0 in labels with no predicted samples. Use `zero_division` parameter to control this behavior.\n",
      "  _warn_prf(average, modifier, msg_start, len(result))\n"
     ]
    },
    {
     "name": "stdout",
     "output_type": "stream",
     "text": [
      "86\n"
     ]
    },
    {
     "name": "stderr",
     "output_type": "stream",
     "text": [
      "/usr/local/lib/python3.7/site-packages/sklearn/metrics/_classification.py:1221: UndefinedMetricWarning: Precision and F-score are ill-defined and being set to 0.0 in labels with no predicted samples. Use `zero_division` parameter to control this behavior.\n",
      "  _warn_prf(average, modifier, msg_start, len(result))\n"
     ]
    },
    {
     "name": "stdout",
     "output_type": "stream",
     "text": [
      "87\n"
     ]
    },
    {
     "name": "stderr",
     "output_type": "stream",
     "text": [
      "/usr/local/lib/python3.7/site-packages/sklearn/metrics/_classification.py:1221: UndefinedMetricWarning: Precision and F-score are ill-defined and being set to 0.0 in labels with no predicted samples. Use `zero_division` parameter to control this behavior.\n",
      "  _warn_prf(average, modifier, msg_start, len(result))\n"
     ]
    },
    {
     "name": "stdout",
     "output_type": "stream",
     "text": [
      "88\n"
     ]
    },
    {
     "name": "stderr",
     "output_type": "stream",
     "text": [
      "/usr/local/lib/python3.7/site-packages/sklearn/metrics/_classification.py:1221: UndefinedMetricWarning: Precision and F-score are ill-defined and being set to 0.0 in labels with no predicted samples. Use `zero_division` parameter to control this behavior.\n",
      "  _warn_prf(average, modifier, msg_start, len(result))\n"
     ]
    },
    {
     "name": "stdout",
     "output_type": "stream",
     "text": [
      "89\n"
     ]
    },
    {
     "name": "stderr",
     "output_type": "stream",
     "text": [
      "/usr/local/lib/python3.7/site-packages/sklearn/metrics/_classification.py:1221: UndefinedMetricWarning: Precision and F-score are ill-defined and being set to 0.0 in labels with no predicted samples. Use `zero_division` parameter to control this behavior.\n",
      "  _warn_prf(average, modifier, msg_start, len(result))\n"
     ]
    },
    {
     "name": "stdout",
     "output_type": "stream",
     "text": [
      "90\n"
     ]
    },
    {
     "name": "stderr",
     "output_type": "stream",
     "text": [
      "/usr/local/lib/python3.7/site-packages/sklearn/metrics/_classification.py:1221: UndefinedMetricWarning: Precision and F-score are ill-defined and being set to 0.0 in labels with no predicted samples. Use `zero_division` parameter to control this behavior.\n",
      "  _warn_prf(average, modifier, msg_start, len(result))\n"
     ]
    },
    {
     "name": "stdout",
     "output_type": "stream",
     "text": [
      "91\n"
     ]
    },
    {
     "name": "stderr",
     "output_type": "stream",
     "text": [
      "/usr/local/lib/python3.7/site-packages/sklearn/metrics/_classification.py:1221: UndefinedMetricWarning: Precision and F-score are ill-defined and being set to 0.0 in labels with no predicted samples. Use `zero_division` parameter to control this behavior.\n",
      "  _warn_prf(average, modifier, msg_start, len(result))\n"
     ]
    },
    {
     "name": "stdout",
     "output_type": "stream",
     "text": [
      "92\n"
     ]
    },
    {
     "name": "stderr",
     "output_type": "stream",
     "text": [
      "/usr/local/lib/python3.7/site-packages/sklearn/metrics/_classification.py:1221: UndefinedMetricWarning: Precision and F-score are ill-defined and being set to 0.0 in labels with no predicted samples. Use `zero_division` parameter to control this behavior.\n",
      "  _warn_prf(average, modifier, msg_start, len(result))\n"
     ]
    },
    {
     "name": "stdout",
     "output_type": "stream",
     "text": [
      "93\n"
     ]
    },
    {
     "name": "stderr",
     "output_type": "stream",
     "text": [
      "/usr/local/lib/python3.7/site-packages/sklearn/metrics/_classification.py:1221: UndefinedMetricWarning: Precision and F-score are ill-defined and being set to 0.0 in labels with no predicted samples. Use `zero_division` parameter to control this behavior.\n",
      "  _warn_prf(average, modifier, msg_start, len(result))\n"
     ]
    },
    {
     "name": "stdout",
     "output_type": "stream",
     "text": [
      "94\n"
     ]
    },
    {
     "name": "stderr",
     "output_type": "stream",
     "text": [
      "/usr/local/lib/python3.7/site-packages/sklearn/metrics/_classification.py:1221: UndefinedMetricWarning: Precision and F-score are ill-defined and being set to 0.0 in labels with no predicted samples. Use `zero_division` parameter to control this behavior.\n",
      "  _warn_prf(average, modifier, msg_start, len(result))\n"
     ]
    },
    {
     "name": "stdout",
     "output_type": "stream",
     "text": [
      "95\n"
     ]
    },
    {
     "name": "stderr",
     "output_type": "stream",
     "text": [
      "/usr/local/lib/python3.7/site-packages/sklearn/metrics/_classification.py:1221: UndefinedMetricWarning: Precision and F-score are ill-defined and being set to 0.0 in labels with no predicted samples. Use `zero_division` parameter to control this behavior.\n",
      "  _warn_prf(average, modifier, msg_start, len(result))\n"
     ]
    },
    {
     "name": "stdout",
     "output_type": "stream",
     "text": [
      "96\n"
     ]
    },
    {
     "name": "stderr",
     "output_type": "stream",
     "text": [
      "/usr/local/lib/python3.7/site-packages/sklearn/metrics/_classification.py:1221: UndefinedMetricWarning: Precision and F-score are ill-defined and being set to 0.0 in labels with no predicted samples. Use `zero_division` parameter to control this behavior.\n",
      "  _warn_prf(average, modifier, msg_start, len(result))\n"
     ]
    },
    {
     "name": "stdout",
     "output_type": "stream",
     "text": [
      "97\n"
     ]
    },
    {
     "name": "stderr",
     "output_type": "stream",
     "text": [
      "/usr/local/lib/python3.7/site-packages/sklearn/metrics/_classification.py:1221: UndefinedMetricWarning: Precision and F-score are ill-defined and being set to 0.0 in labels with no predicted samples. Use `zero_division` parameter to control this behavior.\n",
      "  _warn_prf(average, modifier, msg_start, len(result))\n"
     ]
    },
    {
     "name": "stdout",
     "output_type": "stream",
     "text": [
      "98\n"
     ]
    },
    {
     "name": "stderr",
     "output_type": "stream",
     "text": [
      "/usr/local/lib/python3.7/site-packages/sklearn/metrics/_classification.py:1221: UndefinedMetricWarning: Precision and F-score are ill-defined and being set to 0.0 in labels with no predicted samples. Use `zero_division` parameter to control this behavior.\n",
      "  _warn_prf(average, modifier, msg_start, len(result))\n"
     ]
    },
    {
     "name": "stdout",
     "output_type": "stream",
     "text": [
      "99\n"
     ]
    },
    {
     "name": "stderr",
     "output_type": "stream",
     "text": [
      "/usr/local/lib/python3.7/site-packages/sklearn/metrics/_classification.py:1221: UndefinedMetricWarning: Precision and F-score are ill-defined and being set to 0.0 in labels with no predicted samples. Use `zero_division` parameter to control this behavior.\n",
      "  _warn_prf(average, modifier, msg_start, len(result))\n",
      "/usr/local/lib/python3.7/site-packages/sklearn/metrics/_classification.py:1221: UndefinedMetricWarning: Precision and F-score are ill-defined and being set to 0.0 in labels with no predicted samples. Use `zero_division` parameter to control this behavior.\n",
      "  _warn_prf(average, modifier, msg_start, len(result))\n"
     ]
    }
   ],
   "source": [
    "x = []\n",
    "accuracies = []\n",
    "precisions = []\n",
    "recalls = []\n",
    "f1s = []\n",
    "k_range = 100\n",
    "\n",
    "for k in range(1, k_range):\n",
    "    print(k)\n",
    "    classifier = KNeighborsClassifier(n_neighbors=k, metric='manhattan', weights='distance')\n",
    "    x.append(k)\n",
    "    accuracy, precision, recall, f1 = 0, 0, 0, 0\n",
    "    i = 0\n",
    "    for X_train, Y_train, X_test, Y_test in split_data(stroke_knn, k=10):        \n",
    "        classifier.fit(X_train, np.ravel(Y_train))\n",
    "        prediction = classifier.predict(X_test)\n",
    "        _, accu, PRF = evaluate(np.ravel(Y_test), prediction)\n",
    "        accuracy += accu\n",
    "        precision += PRF[0]\n",
    "        recall += PRF[1]\n",
    "        f1 += PRF[2]\n",
    "        i += 1\n",
    "    \n",
    "    accuracy /= i\n",
    "    precision /= i\n",
    "    recall /= i\n",
    "    f1 /= i\n",
    "    \n",
    "    accuracies.append(accuracy)\n",
    "    precisions.append(precision)\n",
    "    recalls.append(recall)\n",
    "    f1s.append(f1)"
   ]
  },
  {
   "cell_type": "code",
   "execution_count": 23,
   "metadata": {},
   "outputs": [
    {
     "data": {
      "image/png": "[encoded data removed]",
      "text/plain": [
       "<Figure size 1440x216 with 1 Axes>"
      ]
     },
     "metadata": {
      "needs_background": "light"
     },
     "output_type": "display_data"
    },
    {
     "data": {
      "image/png": "[encoded data removed]",
      "text/plain": [
       "<Figure size 1440x216 with 1 Axes>"
      ]
     },
     "metadata": {
      "needs_background": "light"
     },
     "output_type": "display_data"
    },
    {
     "data": {
      "image/png": "[encoded data removed]",
      "text/plain": [
       "<Figure size 1440x216 with 1 Axes>"
      ]
     },
     "metadata": {
      "needs_background": "light"
     },
     "output_type": "display_data"
    },
    {
     "data": {
      "image/png": "[encoded data removed]",
      "text/plain": [
       "<Figure size 1440x216 with 1 Axes>"
      ]
     },
     "metadata": {
      "needs_background": "light"
     },
     "output_type": "display_data"
    }
   ],
   "source": [
    "plt.figure(figsize=(20, 3))\n",
    "plt.plot(x, accuracies, 'b-')\n",
    "plt.xlabel(\"k\")\n",
    "plt.ylabel(\"accuracy\")\n",
    "plt.title(\"knn optimization\")\n",
    "plt.show()\n",
    "\n",
    "plt.figure(figsize=(20, 3))\n",
    "plt.plot(x, precisions, 'b-')\n",
    "plt.xlabel(\"k\")\n",
    "plt.ylabel(\"precision\")\n",
    "plt.title(\"knn optimization\")\n",
    "plt.show()\n",
    "\n",
    "plt.figure(figsize=(20, 3))\n",
    "plt.plot(x, recalls, 'b-')\n",
    "plt.xlabel(\"k\")\n",
    "plt.ylabel(\"recal\")\n",
    "plt.title(\"knn optimization\")\n",
    "plt.show()\n",
    "\n",
    "plt.figure(figsize=(20, 3))\n",
    "plt.plot(x, f1s, 'b-')\n",
    "plt.xlabel(\"k\")\n",
    "plt.ylabel(\"f1-score\")\n",
    "plt.title(\"knn optimization\")\n",
    "plt.show()"
   ]
  },
  {
   "cell_type": "code",
   "execution_count": 24,
   "metadata": {},
   "outputs": [
    {
     "name": "stdout",
     "output_type": "stream",
     "text": [
      "k 31 maximize accuracy: 0.8051094890510949\n",
      "k 53 maximize precision: 0.7060380847269142\n",
      "k 5 maximize recall  0.6204410543794106\n",
      "k 5 maximize f1-score : 0.6331551932391863\n"
     ]
    }
   ],
   "source": [
    "print(\"k\", x[np.argmax(accuracies)], \"maximize accuracy:\", accuracies[np.argmax(accuracies)])\n",
    "print(\"k\", x[np.argmax(precisions)], \"maximize precision:\", precisions[np.argmax(precisions)])\n",
    "print(\"k\", x[np.argmax(recalls)], \"maximize recall \", recalls[np.argmax(recalls)])\n",
    "print(\"k\", x[np.argmax(f1s)], \"maximize f1-score :\", f1s[np.argmax(f1s)])"
   ]
  },
  {
   "cell_type": "markdown",
   "metadata": {},
   "source": [
    "### 3 b)"
   ]
  },
  {
   "cell_type": "markdown",
   "metadata": {},
   "source": [
    "#### zero-R baseline"
   ]
  },
  {
   "cell_type": "code",
   "execution_count": 25,
   "metadata": {
    "scrolled": true
   },
   "outputs": [
    {
     "name": "stdout",
     "output_type": "stream",
     "text": [
      "0\n",
      "1\n",
      "2\n"
     ]
    },
    {
     "name": "stderr",
     "output_type": "stream",
     "text": [
      "/usr/local/lib/python3.7/site-packages/sklearn/metrics/_classification.py:1221: UndefinedMetricWarning: Precision and F-score are ill-defined and being set to 0.0 in labels with no predicted samples. Use `zero_division` parameter to control this behavior.\n",
      "  _warn_prf(average, modifier, msg_start, len(result))\n",
      "/usr/local/lib/python3.7/site-packages/sklearn/metrics/_classification.py:1221: UndefinedMetricWarning: Precision and F-score are ill-defined and being set to 0.0 in labels with no predicted samples. Use `zero_division` parameter to control this behavior.\n",
      "  _warn_prf(average, modifier, msg_start, len(result))\n",
      "/usr/local/lib/python3.7/site-packages/sklearn/metrics/_classification.py:1221: UndefinedMetricWarning: Precision and F-score are ill-defined and being set to 0.0 in labels with no predicted samples. Use `zero_division` parameter to control this behavior.\n",
      "  _warn_prf(average, modifier, msg_start, len(result))\n",
      "/usr/local/lib/python3.7/site-packages/sklearn/metrics/_classification.py:1221: UndefinedMetricWarning: Precision and F-score are ill-defined and being set to 0.0 in labels with no predicted samples. Use `zero_division` parameter to control this behavior.\n",
      "  _warn_prf(average, modifier, msg_start, len(result))\n"
     ]
    },
    {
     "name": "stdout",
     "output_type": "stream",
     "text": [
      "3\n",
      "4\n",
      "5\n"
     ]
    },
    {
     "name": "stderr",
     "output_type": "stream",
     "text": [
      "/usr/local/lib/python3.7/site-packages/sklearn/metrics/_classification.py:1221: UndefinedMetricWarning: Precision and F-score are ill-defined and being set to 0.0 in labels with no predicted samples. Use `zero_division` parameter to control this behavior.\n",
      "  _warn_prf(average, modifier, msg_start, len(result))\n",
      "/usr/local/lib/python3.7/site-packages/sklearn/metrics/_classification.py:1221: UndefinedMetricWarning: Precision and F-score are ill-defined and being set to 0.0 in labels with no predicted samples. Use `zero_division` parameter to control this behavior.\n",
      "  _warn_prf(average, modifier, msg_start, len(result))\n",
      "/usr/local/lib/python3.7/site-packages/sklearn/metrics/_classification.py:1221: UndefinedMetricWarning: Precision and F-score are ill-defined and being set to 0.0 in labels with no predicted samples. Use `zero_division` parameter to control this behavior.\n",
      "  _warn_prf(average, modifier, msg_start, len(result))\n"
     ]
    },
    {
     "name": "stdout",
     "output_type": "stream",
     "text": [
      "6\n",
      "7\n"
     ]
    },
    {
     "name": "stderr",
     "output_type": "stream",
     "text": [
      "/usr/local/lib/python3.7/site-packages/sklearn/metrics/_classification.py:1221: UndefinedMetricWarning: Precision and F-score are ill-defined and being set to 0.0 in labels with no predicted samples. Use `zero_division` parameter to control this behavior.\n",
      "  _warn_prf(average, modifier, msg_start, len(result))\n",
      "/usr/local/lib/python3.7/site-packages/sklearn/metrics/_classification.py:1221: UndefinedMetricWarning: Precision and F-score are ill-defined and being set to 0.0 in labels with no predicted samples. Use `zero_division` parameter to control this behavior.\n",
      "  _warn_prf(average, modifier, msg_start, len(result))\n",
      "/usr/local/lib/python3.7/site-packages/sklearn/metrics/_classification.py:1221: UndefinedMetricWarning: Precision and F-score are ill-defined and being set to 0.0 in labels with no predicted samples. Use `zero_division` parameter to control this behavior.\n",
      "  _warn_prf(average, modifier, msg_start, len(result))\n"
     ]
    },
    {
     "name": "stdout",
     "output_type": "stream",
     "text": [
      "8\n",
      "9\n"
     ]
    }
   ],
   "source": [
    "best_k = [5, 5]\n",
    "three_model_f1 = [0, 0, 0]\n",
    "three_model_accuracy = [0, 0, 0]\n",
    "three_model_precision = [0, 0, 0]\n",
    "three_model_recall = [0, 0, 0]\n",
    "zero_r_classifier = DummyClassifier(strategy=\"most_frequent\")\n",
    "distances = ['euclidean', 'manhattan']\n",
    "\n",
    "i = 0\n",
    "for X_train, Y_train, X_test, Y_test in split_data(stroke_knn, 10):  \n",
    "    print(i)\n",
    "    zero_r_classifier.fit(X_train, Y_train)\n",
    "    prediction = zero_r_classifier.predict(X_test)\n",
    "    _, accu, PRM = evaluate(Y_test, prediction)\n",
    "    three_model_accuracy[0] += accu\n",
    "    three_model_precision[0] += PRM[0]\n",
    "    three_model_recall[0] += PRM[1]\n",
    "    three_model_f1[0] += PRM[2]\n",
    "    i += 1\n",
    "    \n",
    "    for j, distance in enumerate(distances):\n",
    "        knn_classifier = KNeighborsClassifier(n_neighbors=best_k[j], metric=distances[j], weights='distance')\n",
    "        knn_classifier.fit(X_train, np.ravel(Y_train))\n",
    "        prediction = knn_classifier.predict(X_test)\n",
    "        _, accu, PRM = evaluate(np.ravel(Y_test), prediction)\n",
    "        three_model_accuracy[j+1] += accu\n",
    "        three_model_precision[j+1] += PRM[0]\n",
    "        three_model_recall[j+1] += PRM[1]\n",
    "        three_model_f1[j+1] += PRM[2]\n",
    "        \n",
    "for j in range(len(three_model_f1)):\n",
    "    three_model_accuracy[j] /= i\n",
    "    three_model_precision[j] /= i\n",
    "    three_model_recall[j] /= i\n",
    "    three_model_f1[j] /= i"
   ]
  },
  {
   "cell_type": "code",
   "execution_count": 26,
   "metadata": {
    "scrolled": true
   },
   "outputs": [
    {
     "data": {
      "image/png": "[encoded data removed]",
      "text/plain": [
       "<Figure size 432x288 with 1 Axes>"
      ]
     },
     "metadata": {
      "needs_background": "light"
     },
     "output_type": "display_data"
    },
    {
     "name": "stdout",
     "output_type": "stream",
     "text": [
      "[0.8, 0.7879562043795622, 0.7934306569343066]\n"
     ]
    },
    {
     "data": {
      "image/png": "[encoded data removed]",
      "text/plain": [
       "<Figure size 432x288 with 1 Axes>"
      ]
     },
     "metadata": {
      "needs_background": "light"
     },
     "output_type": "display_data"
    },
    {
     "name": "stdout",
     "output_type": "stream",
     "text": [
      "[0.4, 0.6519479412791416, 0.6602587214181931]\n"
     ]
    },
    {
     "data": {
      "image/png": "[encoded data removed]",
      "text/plain": [
       "<Figure size 432x288 with 1 Axes>"
      ]
     },
     "metadata": {
      "needs_background": "light"
     },
     "output_type": "display_data"
    },
    {
     "name": "stdout",
     "output_type": "stream",
     "text": [
      "[0.5, 0.617695101701951, 0.6204410543794106]\n"
     ]
    },
    {
     "data": {
      "image/png": "[encoded data removed]",
      "text/plain": [
       "<Figure size 432x288 with 1 Axes>"
      ]
     },
     "metadata": {
      "needs_background": "light"
     },
     "output_type": "display_data"
    },
    {
     "name": "stdout",
     "output_type": "stream",
     "text": [
      "[0.4444440794606269, 0.6290799995502072, 0.6331551932391863]\n"
     ]
    }
   ],
   "source": [
    "plt.bar(x = range(0, len(three_model_accuracy)), height = three_model_accuracy, tick_label = [\"Zero R\", \"Euclidean\", \"Manhattan\"])\n",
    "plt.ylabel(\"accuracy\")\n",
    "plt.show()\n",
    "print(three_model_accuracy)\n",
    "\n",
    "plt.bar(x = range(0, len(three_model_precision)), height = three_model_precision, tick_label = [\"Zero R\", \"Euclidean\", \"Manhattan\"])\n",
    "plt.ylabel(\"precision\")\n",
    "plt.show()\n",
    "print(three_model_precision)\n",
    "\n",
    "plt.bar(x = range(0, len(three_model_recall)), height = three_model_recall, tick_label = [\"Zero R\", \"Euclidean\", \"Manhattan\"])\n",
    "plt.ylabel(\"recall\")\n",
    "plt.show()\n",
    "print(three_model_recall)\n",
    "\n",
    "plt.bar(x = range(0, len(three_model_f1)), height = three_model_f1, tick_label = [\"Zero R\", \"Euclidean\", \"Manhattan\"])\n",
    "plt.ylabel(\"f1 score\")\n",
    "plt.show()\n",
    "print(three_model_f1)"
   ]
  },
  {
   "cell_type": "markdown",
   "metadata": {},
   "source": [
    "- From the diagram and the results from 3 a), I will choose manhattan distance with k = 5 knn classifier and the f1 score as accuracy metric on test data. As I mentioned above, we choose f1 score metric to eveluate models and f1 have highest score for both euclidean and manhattan distance classifiers when k = 5. The manhattan distance knn classifier has slightly higher scores in all precision, recall and f1 compared to euclidean distance. The reason is different scales in features cause different scales of influence to the models and manhattan distance reduces its impact in calculation.\n",
    "- Compared to Zero-R baseline, except three models have the same accuracy, knn classifiers performs much better in precision, recall and f1 score. The most largest improvement is in presicion, which means knn classifiers predict well in positive stroke instances."
   ]
  },
  {
   "cell_type": "markdown",
   "metadata": {},
   "source": [
    "### Q3 c)"
   ]
  },
  {
   "cell_type": "markdown",
   "metadata": {},
   "source": [
    "- By comparing the matrics scores of naive bayes classifier and knn classifier, we can see naive bayes has better scores in all four metrics. \n",
    "- Naive bayes classifier also has balanced prediction in precision and recall while knn classifier shows a higher precision score compares to recall, means knn predicts positive instances better than negative ones. \n",
    "- The reason might be naive bayes assumes independent features and in this dataset most features have no correlations, while knn does not know which features is more important in prediction. These not important features influence the prediction and mislead to incorrect results.\n",
    "- Considering the efficiency, naive bayes classifier has O(1) time complexity and knn classifier has O(n). Knn classifier also has higher space complexity since it needs to store all test instances. However, the dataset is small so the practical difference in time and space will not be large.\n",
    "- As a result, naive bayes classifier is a better classifier to evaluate this dataset."
   ]
  }
 ],
 "metadata": {
  "kernelspec": {
   "display_name": "Python 3",
   "language": "python",
   "name": "python3"
  },
  "language_info": {
   "codemirror_mode": {
    "name": "ipython",
    "version": 3
   },
   "file_extension": ".py",
   "mimetype": "text/x-python",
   "name": "python",
   "nbconvert_exporter": "python",
   "pygments_lexer": "ipython3",
   "version": "3.7.2"
  }
 },
 "nbformat": 4,
 "nbformat_minor": 2
}
